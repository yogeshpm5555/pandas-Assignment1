{
 "cells": [
  {
   "cell_type": "code",
   "execution_count": 1,
   "id": "714a6376",
   "metadata": {},
   "outputs": [
    {
     "data": {
      "text/plain": [
       "14"
      ]
     },
     "execution_count": 1,
     "metadata": {},
     "output_type": "execute_result"
    }
   ],
   "source": [
    "5+9"
   ]
  },
  {
   "cell_type": "code",
   "execution_count": 2,
   "id": "d25754e6",
   "metadata": {},
   "outputs": [
    {
     "data": {
      "text/plain": [
       "-4"
      ]
     },
     "execution_count": 2,
     "metadata": {},
     "output_type": "execute_result"
    }
   ],
   "source": [
    "3-7"
   ]
  },
  {
   "cell_type": "code",
   "execution_count": 3,
   "id": "35c7b097",
   "metadata": {},
   "outputs": [
    {
     "data": {
      "text/plain": [
       "24"
      ]
     },
     "execution_count": 3,
     "metadata": {},
     "output_type": "execute_result"
    }
   ],
   "source": [
    "4*6"
   ]
  },
  {
   "cell_type": "code",
   "execution_count": 4,
   "id": "6ee06702",
   "metadata": {},
   "outputs": [
    {
     "data": {
      "text/plain": [
       "2.5"
      ]
     },
     "execution_count": 4,
     "metadata": {},
     "output_type": "execute_result"
    }
   ],
   "source": [
    "5/2"
   ]
  },
  {
   "cell_type": "code",
   "execution_count": 5,
   "id": "cda9bba9",
   "metadata": {},
   "outputs": [
    {
     "data": {
      "text/plain": [
       "1"
      ]
     },
     "execution_count": 5,
     "metadata": {},
     "output_type": "execute_result"
    }
   ],
   "source": [
    "5%2"
   ]
  },
  {
   "cell_type": "code",
   "execution_count": 6,
   "id": "b64804fc",
   "metadata": {},
   "outputs": [
    {
     "data": {
      "text/plain": [
       "2"
      ]
     },
     "execution_count": 6,
     "metadata": {},
     "output_type": "execute_result"
    }
   ],
   "source": [
    "5//2"
   ]
  },
  {
   "cell_type": "code",
   "execution_count": 7,
   "id": "a0ba5837",
   "metadata": {},
   "outputs": [
    {
     "data": {
      "text/plain": [
       "25"
      ]
     },
     "execution_count": 7,
     "metadata": {},
     "output_type": "execute_result"
    }
   ],
   "source": [
    "5**2"
   ]
  },
  {
   "cell_type": "code",
   "execution_count": 8,
   "id": "fa644f92",
   "metadata": {},
   "outputs": [
    {
     "data": {
      "text/plain": [
       "125"
      ]
     },
     "execution_count": 8,
     "metadata": {},
     "output_type": "execute_result"
    }
   ],
   "source": [
    "5**3"
   ]
  },
  {
   "cell_type": "markdown",
   "id": "aed98f5a",
   "metadata": {},
   "source": [
    "# Data Types"
   ]
  },
  {
   "cell_type": "markdown",
   "id": "1960d013",
   "metadata": {},
   "source": [
    "#### 1. Numeric   ---> int and float\n",
    "#### 2. Boolean\n",
    "#### 3. String\n",
    "#### 4. complex Numbers"
   ]
  },
  {
   "cell_type": "code",
   "execution_count": 9,
   "id": "e6461faa",
   "metadata": {},
   "outputs": [],
   "source": [
    "a=54"
   ]
  },
  {
   "cell_type": "code",
   "execution_count": 10,
   "id": "4f905070",
   "metadata": {},
   "outputs": [
    {
     "data": {
      "text/plain": [
       "54"
      ]
     },
     "execution_count": 10,
     "metadata": {},
     "output_type": "execute_result"
    }
   ],
   "source": [
    "a"
   ]
  },
  {
   "cell_type": "code",
   "execution_count": 21,
   "id": "af7f37f7",
   "metadata": {},
   "outputs": [],
   "source": [
    "x=45"
   ]
  },
  {
   "cell_type": "code",
   "execution_count": 11,
   "id": "c5448934",
   "metadata": {},
   "outputs": [
    {
     "data": {
      "text/plain": [
       "int"
      ]
     },
     "execution_count": 11,
     "metadata": {},
     "output_type": "execute_result"
    }
   ],
   "source": [
    "type(a)"
   ]
  },
  {
   "cell_type": "code",
   "execution_count": 12,
   "id": "865e2028",
   "metadata": {},
   "outputs": [],
   "source": [
    "b=78.34"
   ]
  },
  {
   "cell_type": "code",
   "execution_count": 13,
   "id": "45db66c6",
   "metadata": {},
   "outputs": [
    {
     "data": {
      "text/plain": [
       "78.34"
      ]
     },
     "execution_count": 13,
     "metadata": {},
     "output_type": "execute_result"
    }
   ],
   "source": [
    "b"
   ]
  },
  {
   "cell_type": "code",
   "execution_count": 14,
   "id": "eac1b5a1",
   "metadata": {},
   "outputs": [
    {
     "data": {
      "text/plain": [
       "float"
      ]
     },
     "execution_count": 14,
     "metadata": {},
     "output_type": "execute_result"
    }
   ],
   "source": [
    "type(b)"
   ]
  },
  {
   "cell_type": "code",
   "execution_count": 15,
   "id": "0b43c8a7",
   "metadata": {},
   "outputs": [
    {
     "data": {
      "text/plain": [
       "True"
      ]
     },
     "execution_count": 15,
     "metadata": {},
     "output_type": "execute_result"
    }
   ],
   "source": [
    "True"
   ]
  },
  {
   "cell_type": "code",
   "execution_count": 16,
   "id": "ae9c258d",
   "metadata": {},
   "outputs": [
    {
     "data": {
      "text/plain": [
       "False"
      ]
     },
     "execution_count": 16,
     "metadata": {},
     "output_type": "execute_result"
    }
   ],
   "source": [
    "False"
   ]
  },
  {
   "cell_type": "code",
   "execution_count": 17,
   "id": "574134ac",
   "metadata": {},
   "outputs": [],
   "source": [
    "x=22"
   ]
  },
  {
   "cell_type": "code",
   "execution_count": 18,
   "id": "21fb2ea9",
   "metadata": {},
   "outputs": [],
   "source": [
    "y=20"
   ]
  },
  {
   "cell_type": "code",
   "execution_count": 25,
   "id": "247c7a61",
   "metadata": {},
   "outputs": [],
   "source": [
    "z=x+y"
   ]
  },
  {
   "cell_type": "code",
   "execution_count": 20,
   "id": "9b64cf67",
   "metadata": {},
   "outputs": [
    {
     "data": {
      "text/plain": [
       "42"
      ]
     },
     "execution_count": 20,
     "metadata": {},
     "output_type": "execute_result"
    }
   ],
   "source": [
    "z"
   ]
  },
  {
   "cell_type": "code",
   "execution_count": 26,
   "id": "1a1985aa",
   "metadata": {},
   "outputs": [
    {
     "data": {
      "text/plain": [
       "65"
      ]
     },
     "execution_count": 26,
     "metadata": {},
     "output_type": "execute_result"
    }
   ],
   "source": [
    "z"
   ]
  },
  {
   "cell_type": "code",
   "execution_count": 27,
   "id": "4b259d57",
   "metadata": {},
   "outputs": [
    {
     "data": {
      "text/plain": [
       "True"
      ]
     },
     "execution_count": 27,
     "metadata": {},
     "output_type": "execute_result"
    }
   ],
   "source": [
    "True"
   ]
  },
  {
   "cell_type": "code",
   "execution_count": 28,
   "id": "f0bb1808",
   "metadata": {},
   "outputs": [
    {
     "data": {
      "text/plain": [
       "False"
      ]
     },
     "execution_count": 28,
     "metadata": {},
     "output_type": "execute_result"
    }
   ],
   "source": [
    "False"
   ]
  },
  {
   "cell_type": "code",
   "execution_count": 29,
   "id": "5a4a81d7",
   "metadata": {},
   "outputs": [],
   "source": [
    "c=True"
   ]
  },
  {
   "cell_type": "code",
   "execution_count": 30,
   "id": "d1f59105",
   "metadata": {},
   "outputs": [
    {
     "data": {
      "text/plain": [
       "True"
      ]
     },
     "execution_count": 30,
     "metadata": {},
     "output_type": "execute_result"
    }
   ],
   "source": [
    "c"
   ]
  },
  {
   "cell_type": "code",
   "execution_count": 31,
   "id": "bdd630ae",
   "metadata": {},
   "outputs": [
    {
     "data": {
      "text/plain": [
       "bool"
      ]
     },
     "execution_count": 31,
     "metadata": {},
     "output_type": "execute_result"
    }
   ],
   "source": [
    "type(c)"
   ]
  },
  {
   "cell_type": "code",
   "execution_count": 32,
   "id": "f3376443",
   "metadata": {},
   "outputs": [],
   "source": [
    "d=False"
   ]
  },
  {
   "cell_type": "code",
   "execution_count": 33,
   "id": "52e4e692",
   "metadata": {},
   "outputs": [
    {
     "data": {
      "text/plain": [
       "False"
      ]
     },
     "execution_count": 33,
     "metadata": {},
     "output_type": "execute_result"
    }
   ],
   "source": [
    "d"
   ]
  },
  {
   "cell_type": "code",
   "execution_count": 34,
   "id": "3f99c535",
   "metadata": {},
   "outputs": [
    {
     "data": {
      "text/plain": [
       "bool"
      ]
     },
     "execution_count": 34,
     "metadata": {},
     "output_type": "execute_result"
    }
   ],
   "source": [
    "type(d)"
   ]
  },
  {
   "cell_type": "code",
   "execution_count": 35,
   "id": "45ef5c62",
   "metadata": {},
   "outputs": [
    {
     "ename": "NameError",
     "evalue": "name 'true' is not defined",
     "output_type": "error",
     "traceback": [
      "\u001b[1;31m---------------------------------------------------------------------------\u001b[0m",
      "\u001b[1;31mNameError\u001b[0m                                 Traceback (most recent call last)",
      "\u001b[1;32m~\\AppData\\Local\\Temp/ipykernel_13516/592217714.py\u001b[0m in \u001b[0;36m<module>\u001b[1;34m\u001b[0m\n\u001b[1;32m----> 1\u001b[1;33m \u001b[0mtrue\u001b[0m\u001b[1;33m\u001b[0m\u001b[1;33m\u001b[0m\u001b[0m\n\u001b[0m",
      "\u001b[1;31mNameError\u001b[0m: name 'true' is not defined"
     ]
    }
   ],
   "source": [
    "true"
   ]
  },
  {
   "cell_type": "code",
   "execution_count": 36,
   "id": "ac53d479",
   "metadata": {},
   "outputs": [
    {
     "ename": "NameError",
     "evalue": "name 'TRUE' is not defined",
     "output_type": "error",
     "traceback": [
      "\u001b[1;31m---------------------------------------------------------------------------\u001b[0m",
      "\u001b[1;31mNameError\u001b[0m                                 Traceback (most recent call last)",
      "\u001b[1;32m~\\AppData\\Local\\Temp/ipykernel_13516/3320712247.py\u001b[0m in \u001b[0;36m<module>\u001b[1;34m\u001b[0m\n\u001b[1;32m----> 1\u001b[1;33m \u001b[0mTRUE\u001b[0m\u001b[1;33m\u001b[0m\u001b[1;33m\u001b[0m\u001b[0m\n\u001b[0m",
      "\u001b[1;31mNameError\u001b[0m: name 'TRUE' is not defined"
     ]
    }
   ],
   "source": [
    "TRUE"
   ]
  },
  {
   "cell_type": "code",
   "execution_count": 37,
   "id": "94310ed5",
   "metadata": {},
   "outputs": [
    {
     "data": {
      "text/plain": [
       "True"
      ]
     },
     "execution_count": 37,
     "metadata": {},
     "output_type": "execute_result"
    }
   ],
   "source": [
    "True"
   ]
  },
  {
   "cell_type": "code",
   "execution_count": 38,
   "id": "cef3abf3",
   "metadata": {},
   "outputs": [
    {
     "data": {
      "text/plain": [
       "2"
      ]
     },
     "execution_count": 38,
     "metadata": {},
     "output_type": "execute_result"
    }
   ],
   "source": [
    "True+False+True"
   ]
  },
  {
   "cell_type": "code",
   "execution_count": 39,
   "id": "b8f29ca5",
   "metadata": {},
   "outputs": [
    {
     "data": {
      "text/plain": [
       "8"
      ]
     },
     "execution_count": 39,
     "metadata": {},
     "output_type": "execute_result"
    }
   ],
   "source": [
    "True+False+False+True+True+5"
   ]
  },
  {
   "cell_type": "code",
   "execution_count": 43,
   "id": "da9848d3",
   "metadata": {},
   "outputs": [],
   "source": [
    "# String"
   ]
  },
  {
   "cell_type": "code",
   "execution_count": 44,
   "id": "cdbacb96",
   "metadata": {},
   "outputs": [],
   "source": [
    "n='india'"
   ]
  },
  {
   "cell_type": "code",
   "execution_count": 45,
   "id": "2abafc26",
   "metadata": {},
   "outputs": [
    {
     "data": {
      "text/plain": [
       "'india'"
      ]
     },
     "execution_count": 45,
     "metadata": {},
     "output_type": "execute_result"
    }
   ],
   "source": [
    "n"
   ]
  },
  {
   "cell_type": "code",
   "execution_count": 46,
   "id": "967f1d29",
   "metadata": {},
   "outputs": [
    {
     "data": {
      "text/plain": [
       "str"
      ]
     },
     "execution_count": 46,
     "metadata": {},
     "output_type": "execute_result"
    }
   ],
   "source": [
    "type(n)"
   ]
  },
  {
   "cell_type": "code",
   "execution_count": 47,
   "id": "50bd79ad",
   "metadata": {},
   "outputs": [],
   "source": [
    "s=\"rahul\""
   ]
  },
  {
   "cell_type": "code",
   "execution_count": 48,
   "id": "39388a6b",
   "metadata": {},
   "outputs": [
    {
     "data": {
      "text/plain": [
       "'rahul'"
      ]
     },
     "execution_count": 48,
     "metadata": {},
     "output_type": "execute_result"
    }
   ],
   "source": [
    "s"
   ]
  },
  {
   "cell_type": "code",
   "execution_count": 49,
   "id": "f595fe3e",
   "metadata": {},
   "outputs": [
    {
     "data": {
      "text/plain": [
       "str"
      ]
     },
     "execution_count": 49,
     "metadata": {},
     "output_type": "execute_result"
    }
   ],
   "source": [
    "type(s)"
   ]
  },
  {
   "cell_type": "code",
   "execution_count": 50,
   "id": "44b198aa",
   "metadata": {},
   "outputs": [],
   "source": [
    "n1='546'"
   ]
  },
  {
   "cell_type": "code",
   "execution_count": 51,
   "id": "f374cbc7",
   "metadata": {},
   "outputs": [
    {
     "data": {
      "text/plain": [
       "'546'"
      ]
     },
     "execution_count": 51,
     "metadata": {},
     "output_type": "execute_result"
    }
   ],
   "source": [
    "n1"
   ]
  },
  {
   "cell_type": "code",
   "execution_count": 52,
   "id": "8a9c7df5",
   "metadata": {},
   "outputs": [
    {
     "data": {
      "text/plain": [
       "str"
      ]
     },
     "execution_count": 52,
     "metadata": {},
     "output_type": "execute_result"
    }
   ],
   "source": [
    "type(n1)"
   ]
  },
  {
   "cell_type": "code",
   "execution_count": 53,
   "id": "ce0dd2ad",
   "metadata": {},
   "outputs": [],
   "source": [
    "n2=\"678\""
   ]
  },
  {
   "cell_type": "code",
   "execution_count": 54,
   "id": "ab221a98",
   "metadata": {},
   "outputs": [
    {
     "data": {
      "text/plain": [
       "'678'"
      ]
     },
     "execution_count": 54,
     "metadata": {},
     "output_type": "execute_result"
    }
   ],
   "source": [
    "n2"
   ]
  },
  {
   "cell_type": "code",
   "execution_count": 55,
   "id": "fe96270f",
   "metadata": {},
   "outputs": [
    {
     "data": {
      "text/plain": [
       "str"
      ]
     },
     "execution_count": 55,
     "metadata": {},
     "output_type": "execute_result"
    }
   ],
   "source": [
    "type(n2)"
   ]
  },
  {
   "cell_type": "code",
   "execution_count": 56,
   "id": "fb4d9fd9",
   "metadata": {},
   "outputs": [
    {
     "data": {
      "text/plain": [
       "'546'"
      ]
     },
     "execution_count": 56,
     "metadata": {},
     "output_type": "execute_result"
    }
   ],
   "source": [
    "n1"
   ]
  },
  {
   "cell_type": "code",
   "execution_count": 57,
   "id": "c3299905",
   "metadata": {},
   "outputs": [
    {
     "data": {
      "text/plain": [
       "'678'"
      ]
     },
     "execution_count": 57,
     "metadata": {},
     "output_type": "execute_result"
    }
   ],
   "source": [
    "n2"
   ]
  },
  {
   "cell_type": "code",
   "execution_count": 58,
   "id": "7e2f62c8",
   "metadata": {},
   "outputs": [
    {
     "data": {
      "text/plain": [
       "'546678'"
      ]
     },
     "execution_count": 58,
     "metadata": {},
     "output_type": "execute_result"
    }
   ],
   "source": [
    "n1+n2"
   ]
  },
  {
   "cell_type": "code",
   "execution_count": 59,
   "id": "5353ccb5",
   "metadata": {},
   "outputs": [],
   "source": [
    "## Complex Numbers"
   ]
  },
  {
   "cell_type": "code",
   "execution_count": 60,
   "id": "54de3377",
   "metadata": {},
   "outputs": [],
   "source": [
    "c=2+5j"
   ]
  },
  {
   "cell_type": "code",
   "execution_count": 61,
   "id": "2e71fd7d",
   "metadata": {},
   "outputs": [
    {
     "data": {
      "text/plain": [
       "(2+5j)"
      ]
     },
     "execution_count": 61,
     "metadata": {},
     "output_type": "execute_result"
    }
   ],
   "source": [
    "c"
   ]
  },
  {
   "cell_type": "code",
   "execution_count": 62,
   "id": "16256b9a",
   "metadata": {},
   "outputs": [
    {
     "data": {
      "text/plain": [
       "complex"
      ]
     },
     "execution_count": 62,
     "metadata": {},
     "output_type": "execute_result"
    }
   ],
   "source": [
    "type(c)"
   ]
  },
  {
   "cell_type": "code",
   "execution_count": 63,
   "id": "b9cfe68e",
   "metadata": {},
   "outputs": [],
   "source": [
    "num=3+7j"
   ]
  },
  {
   "cell_type": "code",
   "execution_count": 64,
   "id": "156d406c",
   "metadata": {},
   "outputs": [
    {
     "data": {
      "text/plain": [
       "(3+7j)"
      ]
     },
     "execution_count": 64,
     "metadata": {},
     "output_type": "execute_result"
    }
   ],
   "source": [
    "num"
   ]
  },
  {
   "cell_type": "code",
   "execution_count": 65,
   "id": "f74fd892",
   "metadata": {},
   "outputs": [
    {
     "data": {
      "text/plain": [
       "complex"
      ]
     },
     "execution_count": 65,
     "metadata": {},
     "output_type": "execute_result"
    }
   ],
   "source": [
    "type(num)"
   ]
  },
  {
   "cell_type": "code",
   "execution_count": 66,
   "id": "8113e70c",
   "metadata": {},
   "outputs": [],
   "source": [
    "a=56"
   ]
  },
  {
   "cell_type": "code",
   "execution_count": 67,
   "id": "51ec9b6d",
   "metadata": {},
   "outputs": [],
   "source": [
    "b=78.98"
   ]
  },
  {
   "cell_type": "code",
   "execution_count": 69,
   "id": "5f13fb52",
   "metadata": {},
   "outputs": [
    {
     "ename": "SyntaxError",
     "evalue": "invalid syntax (Temp/ipykernel_13516/3059233187.py, line 1)",
     "output_type": "error",
     "traceback": [
      "\u001b[1;36m  File \u001b[1;32m\"C:\\Users\\Admin\\AppData\\Local\\Temp/ipykernel_13516/3059233187.py\"\u001b[1;36m, line \u001b[1;32m1\u001b[0m\n\u001b[1;33m    @a=67\u001b[0m\n\u001b[1;37m      ^\u001b[0m\n\u001b[1;31mSyntaxError\u001b[0m\u001b[1;31m:\u001b[0m invalid syntax\n"
     ]
    }
   ],
   "source": [
    "@a=67"
   ]
  },
  {
   "cell_type": "code",
   "execution_count": 70,
   "id": "9338ca0b",
   "metadata": {},
   "outputs": [
    {
     "ename": "SyntaxError",
     "evalue": "invalid syntax (Temp/ipykernel_13516/3182876013.py, line 1)",
     "output_type": "error",
     "traceback": [
      "\u001b[1;36m  File \u001b[1;32m\"C:\\Users\\Admin\\AppData\\Local\\Temp/ipykernel_13516/3182876013.py\"\u001b[1;36m, line \u001b[1;32m1\u001b[0m\n\u001b[1;33m    &a=67\u001b[0m\n\u001b[1;37m    ^\u001b[0m\n\u001b[1;31mSyntaxError\u001b[0m\u001b[1;31m:\u001b[0m invalid syntax\n"
     ]
    }
   ],
   "source": [
    "&a=67"
   ]
  },
  {
   "cell_type": "code",
   "execution_count": 71,
   "id": "7db90d4c",
   "metadata": {},
   "outputs": [
    {
     "ename": "SyntaxError",
     "evalue": "invalid syntax (Temp/ipykernel_13516/971882978.py, line 1)",
     "output_type": "error",
     "traceback": [
      "\u001b[1;36m  File \u001b[1;32m\"C:\\Users\\Admin\\AppData\\Local\\Temp/ipykernel_13516/971882978.py\"\u001b[1;36m, line \u001b[1;32m1\u001b[0m\n\u001b[1;33m    3a=89\u001b[0m\n\u001b[1;37m     ^\u001b[0m\n\u001b[1;31mSyntaxError\u001b[0m\u001b[1;31m:\u001b[0m invalid syntax\n"
     ]
    }
   ],
   "source": [
    "3a=89"
   ]
  },
  {
   "cell_type": "code",
   "execution_count": 72,
   "id": "ebc069bf",
   "metadata": {},
   "outputs": [
    {
     "name": "stderr",
     "output_type": "stream",
     "text": [
      "UsageError: Line magic function `%b=67` not found.\n"
     ]
    }
   ],
   "source": [
    "%b=67"
   ]
  },
  {
   "cell_type": "code",
   "execution_count": 73,
   "id": "5b542c79",
   "metadata": {},
   "outputs": [],
   "source": [
    "marks_student=45"
   ]
  },
  {
   "cell_type": "code",
   "execution_count": 74,
   "id": "683d87ae",
   "metadata": {},
   "outputs": [
    {
     "data": {
      "text/plain": [
       "45"
      ]
     },
     "execution_count": 74,
     "metadata": {},
     "output_type": "execute_result"
    }
   ],
   "source": [
    "marks_student"
   ]
  },
  {
   "cell_type": "code",
   "execution_count": 75,
   "id": "2379f55f",
   "metadata": {},
   "outputs": [
    {
     "data": {
      "text/plain": [
       "int"
      ]
     },
     "execution_count": 75,
     "metadata": {},
     "output_type": "execute_result"
    }
   ],
   "source": [
    "type(marks_student)"
   ]
  },
  {
   "cell_type": "code",
   "execution_count": 76,
   "id": "47ac110a",
   "metadata": {},
   "outputs": [],
   "source": [
    "name_of_player=\"Rohit\""
   ]
  },
  {
   "cell_type": "code",
   "execution_count": 77,
   "id": "6a23066d",
   "metadata": {},
   "outputs": [
    {
     "data": {
      "text/plain": [
       "'Rohit'"
      ]
     },
     "execution_count": 77,
     "metadata": {},
     "output_type": "execute_result"
    }
   ],
   "source": [
    "name_of_player"
   ]
  },
  {
   "cell_type": "code",
   "execution_count": 78,
   "id": "a477eaea",
   "metadata": {},
   "outputs": [
    {
     "data": {
      "text/plain": [
       "str"
      ]
     },
     "execution_count": 78,
     "metadata": {},
     "output_type": "execute_result"
    }
   ],
   "source": [
    "type(name_of_player)"
   ]
  },
  {
   "cell_type": "code",
   "execution_count": 79,
   "id": "f0329eca",
   "metadata": {},
   "outputs": [
    {
     "data": {
      "text/plain": [
       "'5678'"
      ]
     },
     "execution_count": 79,
     "metadata": {},
     "output_type": "execute_result"
    }
   ],
   "source": [
    "'56'+'78'"
   ]
  },
  {
   "cell_type": "code",
   "execution_count": 80,
   "id": "c31ffa6a",
   "metadata": {},
   "outputs": [
    {
     "data": {
      "text/plain": [
       "134"
      ]
     },
     "execution_count": 80,
     "metadata": {},
     "output_type": "execute_result"
    }
   ],
   "source": [
    "int('56')+int('78')"
   ]
  },
  {
   "cell_type": "code",
   "execution_count": 81,
   "id": "44adf911",
   "metadata": {},
   "outputs": [
    {
     "data": {
      "text/plain": [
       "134.0"
      ]
     },
     "execution_count": 81,
     "metadata": {},
     "output_type": "execute_result"
    }
   ],
   "source": [
    "float('56')+float('78')"
   ]
  },
  {
   "cell_type": "code",
   "execution_count": 82,
   "id": "a7b5c3da",
   "metadata": {},
   "outputs": [
    {
     "data": {
      "text/plain": [
       "'abcxyz'"
      ]
     },
     "execution_count": 82,
     "metadata": {},
     "output_type": "execute_result"
    }
   ],
   "source": [
    "'abc'+'xyz'"
   ]
  },
  {
   "cell_type": "code",
   "execution_count": 83,
   "id": "9e08007f",
   "metadata": {},
   "outputs": [
    {
     "ename": "ValueError",
     "evalue": "invalid literal for int() with base 10: 'abc'",
     "output_type": "error",
     "traceback": [
      "\u001b[1;31m---------------------------------------------------------------------------\u001b[0m",
      "\u001b[1;31mValueError\u001b[0m                                Traceback (most recent call last)",
      "\u001b[1;32m~\\AppData\\Local\\Temp/ipykernel_13516/757541605.py\u001b[0m in \u001b[0;36m<module>\u001b[1;34m\u001b[0m\n\u001b[1;32m----> 1\u001b[1;33m \u001b[0mint\u001b[0m\u001b[1;33m(\u001b[0m\u001b[1;34m'abc'\u001b[0m\u001b[1;33m)\u001b[0m\u001b[1;33m+\u001b[0m\u001b[0mint\u001b[0m\u001b[1;33m(\u001b[0m\u001b[1;34m'xyz'\u001b[0m\u001b[1;33m)\u001b[0m\u001b[1;33m\u001b[0m\u001b[1;33m\u001b[0m\u001b[0m\n\u001b[0m",
      "\u001b[1;31mValueError\u001b[0m: invalid literal for int() with base 10: 'abc'"
     ]
    }
   ],
   "source": [
    "int('abc')+int('xyz')"
   ]
  },
  {
   "cell_type": "code",
   "execution_count": 86,
   "id": "0cd6d33b",
   "metadata": {},
   "outputs": [
    {
     "data": {
      "text/plain": [
       "'5679'"
      ]
     },
     "execution_count": 86,
     "metadata": {},
     "output_type": "execute_result"
    }
   ],
   "source": [
    "str(56)+str(79)"
   ]
  },
  {
   "cell_type": "code",
   "execution_count": 87,
   "id": "6eecf7fd",
   "metadata": {},
   "outputs": [
    {
     "data": {
      "text/plain": [
       "133"
      ]
     },
     "execution_count": 87,
     "metadata": {},
     "output_type": "execute_result"
    }
   ],
   "source": [
    "55+78"
   ]
  },
  {
   "cell_type": "code",
   "execution_count": 88,
   "id": "08a15ea2",
   "metadata": {},
   "outputs": [
    {
     "data": {
      "text/plain": [
       "90.89"
      ]
     },
     "execution_count": 88,
     "metadata": {},
     "output_type": "execute_result"
    }
   ],
   "source": [
    "23+67.89"
   ]
  },
  {
   "cell_type": "code",
   "execution_count": 89,
   "id": "be7a9d9d",
   "metadata": {},
   "outputs": [
    {
     "data": {
      "text/plain": [
       "90.0"
      ]
     },
     "execution_count": 89,
     "metadata": {},
     "output_type": "execute_result"
    }
   ],
   "source": [
    "22.56+67.44"
   ]
  },
  {
   "cell_type": "code",
   "execution_count": 90,
   "id": "19b3b356",
   "metadata": {},
   "outputs": [
    {
     "ename": "TypeError",
     "evalue": "unsupported operand type(s) for +: 'int' and 'str'",
     "output_type": "error",
     "traceback": [
      "\u001b[1;31m---------------------------------------------------------------------------\u001b[0m",
      "\u001b[1;31mTypeError\u001b[0m                                 Traceback (most recent call last)",
      "\u001b[1;32m~\\AppData\\Local\\Temp/ipykernel_13516/2199011830.py\u001b[0m in \u001b[0;36m<module>\u001b[1;34m\u001b[0m\n\u001b[1;32m----> 1\u001b[1;33m \u001b[1;36m45\u001b[0m\u001b[1;33m+\u001b[0m\u001b[1;34m'56'\u001b[0m\u001b[1;33m\u001b[0m\u001b[1;33m\u001b[0m\u001b[0m\n\u001b[0m",
      "\u001b[1;31mTypeError\u001b[0m: unsupported operand type(s) for +: 'int' and 'str'"
     ]
    }
   ],
   "source": [
    "45+'56'"
   ]
  },
  {
   "cell_type": "code",
   "execution_count": 91,
   "id": "59fc01f5",
   "metadata": {},
   "outputs": [
    {
     "data": {
      "text/plain": [
       "-22"
      ]
     },
     "execution_count": 91,
     "metadata": {},
     "output_type": "execute_result"
    }
   ],
   "source": [
    "56-78"
   ]
  },
  {
   "cell_type": "code",
   "execution_count": 92,
   "id": "21f71bd0",
   "metadata": {},
   "outputs": [
    {
     "ename": "TypeError",
     "evalue": "unsupported operand type(s) for -: 'str' and 'str'",
     "output_type": "error",
     "traceback": [
      "\u001b[1;31m---------------------------------------------------------------------------\u001b[0m",
      "\u001b[1;31mTypeError\u001b[0m                                 Traceback (most recent call last)",
      "\u001b[1;32m~\\AppData\\Local\\Temp/ipykernel_13516/1353048169.py\u001b[0m in \u001b[0;36m<module>\u001b[1;34m\u001b[0m\n\u001b[1;32m----> 1\u001b[1;33m \u001b[1;34m'45'\u001b[0m\u001b[1;33m-\u001b[0m\u001b[1;34m'56'\u001b[0m\u001b[1;33m\u001b[0m\u001b[1;33m\u001b[0m\u001b[0m\n\u001b[0m",
      "\u001b[1;31mTypeError\u001b[0m: unsupported operand type(s) for -: 'str' and 'str'"
     ]
    }
   ],
   "source": [
    "'45'-'56'"
   ]
  },
  {
   "cell_type": "code",
   "execution_count": 93,
   "id": "3986703e",
   "metadata": {},
   "outputs": [
    {
     "data": {
      "text/plain": [
       "False"
      ]
     },
     "execution_count": 93,
     "metadata": {},
     "output_type": "execute_result"
    }
   ],
   "source": [
    "bool(0)"
   ]
  },
  {
   "cell_type": "code",
   "execution_count": 94,
   "id": "1e0df1c6",
   "metadata": {},
   "outputs": [
    {
     "data": {
      "text/plain": [
       "True"
      ]
     },
     "execution_count": 94,
     "metadata": {},
     "output_type": "execute_result"
    }
   ],
   "source": [
    "bool(1)"
   ]
  },
  {
   "cell_type": "code",
   "execution_count": 95,
   "id": "d68aef45",
   "metadata": {},
   "outputs": [
    {
     "data": {
      "text/plain": [
       "True"
      ]
     },
     "execution_count": 95,
     "metadata": {},
     "output_type": "execute_result"
    }
   ],
   "source": [
    "bool(45)"
   ]
  },
  {
   "cell_type": "code",
   "execution_count": 96,
   "id": "d96a5c90",
   "metadata": {},
   "outputs": [
    {
     "data": {
      "text/plain": [
       "True"
      ]
     },
     "execution_count": 96,
     "metadata": {},
     "output_type": "execute_result"
    }
   ],
   "source": [
    "bool(-34)"
   ]
  },
  {
   "cell_type": "code",
   "execution_count": 97,
   "id": "265e3fe1",
   "metadata": {},
   "outputs": [
    {
     "data": {
      "text/plain": [
       "False"
      ]
     },
     "execution_count": 97,
     "metadata": {},
     "output_type": "execute_result"
    }
   ],
   "source": [
    "bool(0)"
   ]
  },
  {
   "cell_type": "code",
   "execution_count": 98,
   "id": "6d2042f7",
   "metadata": {},
   "outputs": [
    {
     "data": {
      "text/plain": [
       "True"
      ]
     },
     "execution_count": 98,
     "metadata": {},
     "output_type": "execute_result"
    }
   ],
   "source": [
    "bool('abc')"
   ]
  },
  {
   "cell_type": "code",
   "execution_count": 99,
   "id": "bb4576a7",
   "metadata": {},
   "outputs": [
    {
     "data": {
      "text/plain": [
       "False"
      ]
     },
     "execution_count": 99,
     "metadata": {},
     "output_type": "execute_result"
    }
   ],
   "source": [
    "bool('')"
   ]
  },
  {
   "cell_type": "code",
   "execution_count": 100,
   "id": "7565f46f",
   "metadata": {},
   "outputs": [
    {
     "data": {
      "text/plain": [
       "'hello'"
      ]
     },
     "execution_count": 100,
     "metadata": {},
     "output_type": "execute_result"
    }
   ],
   "source": [
    "''+'hello'"
   ]
  },
  {
   "cell_type": "code",
   "execution_count": 101,
   "id": "0e46b062",
   "metadata": {},
   "outputs": [],
   "source": [
    "#List tuple"
   ]
  },
  {
   "cell_type": "code",
   "execution_count": 1,
   "id": "5044edb2",
   "metadata": {},
   "outputs": [],
   "source": [
    "## Comparision Operators"
   ]
  },
  {
   "cell_type": "code",
   "execution_count": 2,
   "id": "bb1c3d4c",
   "metadata": {},
   "outputs": [
    {
     "data": {
      "text/plain": [
       "True"
      ]
     },
     "execution_count": 2,
     "metadata": {},
     "output_type": "execute_result"
    }
   ],
   "source": [
    "1==5 or 4==7 or 5==5"
   ]
  },
  {
   "cell_type": "code",
   "execution_count": 3,
   "id": "32cd8d6e",
   "metadata": {},
   "outputs": [
    {
     "data": {
      "text/plain": [
       "False"
      ]
     },
     "execution_count": 3,
     "metadata": {},
     "output_type": "execute_result"
    }
   ],
   "source": [
    "1==5 or 4==7 and 5==5"
   ]
  },
  {
   "cell_type": "code",
   "execution_count": 4,
   "id": "545d6fdc",
   "metadata": {},
   "outputs": [
    {
     "data": {
      "text/plain": [
       "True"
      ]
     },
     "execution_count": 4,
     "metadata": {},
     "output_type": "execute_result"
    }
   ],
   "source": [
    "1==5 and 4==7 or 5==5"
   ]
  },
  {
   "cell_type": "code",
   "execution_count": 5,
   "id": "8ac283ff",
   "metadata": {},
   "outputs": [],
   "source": [
    "#if elif else statements"
   ]
  },
  {
   "cell_type": "code",
   "execution_count": 6,
   "id": "a530c1e9",
   "metadata": {},
   "outputs": [
    {
     "name": "stdout",
     "output_type": "stream",
     "text": [
      "Hello Everyone!!\n"
     ]
    }
   ],
   "source": [
    "if 3<7:\n",
    "    print(\"Hello Everyone!!\")"
   ]
  },
  {
   "cell_type": "code",
   "execution_count": 7,
   "id": "f714a0af",
   "metadata": {},
   "outputs": [],
   "source": [
    "if 4<2:\n",
    "    print(\"Hello Everyone\")"
   ]
  },
  {
   "cell_type": "code",
   "execution_count": 8,
   "id": "1acfe6b5",
   "metadata": {},
   "outputs": [
    {
     "name": "stdout",
     "output_type": "stream",
     "text": [
      "Yogesh Murumkar\n"
     ]
    }
   ],
   "source": [
    "if 5==5:\n",
    "    print(\"Yogesh Murumkar\")"
   ]
  },
  {
   "cell_type": "code",
   "execution_count": 9,
   "id": "74b18a13",
   "metadata": {},
   "outputs": [
    {
     "name": "stdout",
     "output_type": "stream",
     "text": [
      "Hello\n"
     ]
    }
   ],
   "source": [
    "if True:\n",
    "    print(\"Hello\")"
   ]
  },
  {
   "cell_type": "code",
   "execution_count": 10,
   "id": "0439ae2d",
   "metadata": {},
   "outputs": [
    {
     "name": "stdout",
     "output_type": "stream",
     "text": [
      "Last\n"
     ]
    }
   ],
   "source": [
    "if 4>6:\n",
    "    print(\"First\")\n",
    "else:\n",
    "    print(\"Last\")"
   ]
  },
  {
   "cell_type": "code",
   "execution_count": 11,
   "id": "2610e1c7",
   "metadata": {},
   "outputs": [
    {
     "name": "stdout",
     "output_type": "stream",
     "text": [
      "First\n"
     ]
    }
   ],
   "source": [
    "if 2!=3:\n",
    "    print(\"First\")\n",
    "else:\n",
    "    print(\"Last\")"
   ]
  },
  {
   "cell_type": "code",
   "execution_count": 12,
   "id": "38d19a91",
   "metadata": {},
   "outputs": [
    {
     "name": "stdout",
     "output_type": "stream",
     "text": [
      "Second\n"
     ]
    }
   ],
   "source": [
    "if 4>6:\n",
    "    print(\"First\")\n",
    "elif 5==5:\n",
    "    print(\"Second\")\n",
    "else:\n",
    "    print(\"Last\")"
   ]
  },
  {
   "cell_type": "code",
   "execution_count": 13,
   "id": "33010de7",
   "metadata": {},
   "outputs": [
    {
     "name": "stdout",
     "output_type": "stream",
     "text": [
      "third\n"
     ]
    }
   ],
   "source": [
    "if 4>6:\n",
    "    print(\"First\")\n",
    "elif 5==8:\n",
    "    print(\"Second\")\n",
    "elif 7==7:\n",
    "    print(\"third\")\n",
    "else:\n",
    "    print(\"Last\")"
   ]
  },
  {
   "cell_type": "code",
   "execution_count": 14,
   "id": "048b1178",
   "metadata": {},
   "outputs": [
    {
     "name": "stdout",
     "output_type": "stream",
     "text": [
      "Second\n"
     ]
    }
   ],
   "source": [
    "if 4>6:\n",
    "    print(\"First\")\n",
    "elif 5==5:\n",
    "    print(\"Second\")\n",
    "elif 7==7:\n",
    "    print(\"third\")\n",
    "else:\n",
    "    print(\"Last\")"
   ]
  },
  {
   "cell_type": "code",
   "execution_count": 15,
   "id": "cf2e3a7a",
   "metadata": {},
   "outputs": [],
   "source": [
    "## for loop"
   ]
  },
  {
   "cell_type": "code",
   "execution_count": 16,
   "id": "26010a8e",
   "metadata": {},
   "outputs": [],
   "source": [
    "data=[5,7,8,9,10]"
   ]
  },
  {
   "cell_type": "code",
   "execution_count": 17,
   "id": "25c20156",
   "metadata": {},
   "outputs": [
    {
     "data": {
      "text/plain": [
       "list"
      ]
     },
     "execution_count": 17,
     "metadata": {},
     "output_type": "execute_result"
    }
   ],
   "source": [
    "type(data)"
   ]
  },
  {
   "cell_type": "code",
   "execution_count": 18,
   "id": "61d15ddf",
   "metadata": {},
   "outputs": [
    {
     "data": {
      "text/plain": [
       "[5, 7, 8, 9, 10]"
      ]
     },
     "execution_count": 18,
     "metadata": {},
     "output_type": "execute_result"
    }
   ],
   "source": [
    "data"
   ]
  },
  {
   "cell_type": "code",
   "execution_count": 19,
   "id": "798028c6",
   "metadata": {},
   "outputs": [
    {
     "name": "stdout",
     "output_type": "stream",
     "text": [
      "5\n",
      "7\n",
      "8\n",
      "9\n",
      "10\n"
     ]
    }
   ],
   "source": [
    "for v in data:\n",
    "    print(v)"
   ]
  },
  {
   "cell_type": "code",
   "execution_count": 21,
   "id": "61bf5770",
   "metadata": {},
   "outputs": [
    {
     "name": "stdout",
     "output_type": "stream",
     "text": [
      "5 7 8 9 10 "
     ]
    }
   ],
   "source": [
    "for sujata in data:\n",
    "    print(sujata,end=' ')"
   ]
  },
  {
   "cell_type": "code",
   "execution_count": 22,
   "id": "c59b5e67",
   "metadata": {},
   "outputs": [
    {
     "name": "stdout",
     "output_type": "stream",
     "text": [
      "5          7          8          9          10          "
     ]
    }
   ],
   "source": [
    "for sujata in data:\n",
    "    print(sujata,end='          ')"
   ]
  },
  {
   "cell_type": "code",
   "execution_count": 24,
   "id": "e693ce28",
   "metadata": {},
   "outputs": [
    {
     "name": "stdout",
     "output_type": "stream",
     "text": [
      "5*7*8*9*10*"
     ]
    }
   ],
   "source": [
    "for i in data:\n",
    "    print(i,end='*')"
   ]
  },
  {
   "cell_type": "code",
   "execution_count": 25,
   "id": "11d52351",
   "metadata": {},
   "outputs": [
    {
     "name": "stdout",
     "output_type": "stream",
     "text": [
      "5*#7*#8*#9*#10*#"
     ]
    }
   ],
   "source": [
    "for i in data:\n",
    "    print(i,end='*#')"
   ]
  },
  {
   "cell_type": "code",
   "execution_count": 26,
   "id": "be5949b4",
   "metadata": {},
   "outputs": [
    {
     "name": "stdout",
     "output_type": "stream",
     "text": [
      "25\n",
      "49\n",
      "64\n",
      "81\n",
      "100\n"
     ]
    }
   ],
   "source": [
    "for v in data:\n",
    "    print(v*v)"
   ]
  },
  {
   "cell_type": "code",
   "execution_count": 27,
   "id": "9ffeb52f",
   "metadata": {},
   "outputs": [
    {
     "data": {
      "text/plain": [
       "[5, 7, 8, 9, 10]"
      ]
     },
     "execution_count": 27,
     "metadata": {},
     "output_type": "execute_result"
    }
   ],
   "source": [
    "data"
   ]
  },
  {
   "cell_type": "code",
   "execution_count": 28,
   "id": "2cde174b",
   "metadata": {},
   "outputs": [
    {
     "data": {
      "text/plain": [
       "[5, 7, 8, 9, 10]"
      ]
     },
     "execution_count": 28,
     "metadata": {},
     "output_type": "execute_result"
    }
   ],
   "source": [
    "data"
   ]
  },
  {
   "cell_type": "code",
   "execution_count": 29,
   "id": "e5c828db",
   "metadata": {},
   "outputs": [
    {
     "name": "stdout",
     "output_type": "stream",
     "text": [
      "7\n",
      "8\n"
     ]
    }
   ],
   "source": [
    "for v in data[1:3]:\n",
    "    print(v)"
   ]
  },
  {
   "cell_type": "code",
   "execution_count": 30,
   "id": "9235ca0d",
   "metadata": {},
   "outputs": [
    {
     "data": {
      "text/plain": [
       "[5, 7, 8, 9, 10]"
      ]
     },
     "execution_count": 30,
     "metadata": {},
     "output_type": "execute_result"
    }
   ],
   "source": [
    "data"
   ]
  },
  {
   "cell_type": "code",
   "execution_count": 31,
   "id": "55c3045c",
   "metadata": {},
   "outputs": [
    {
     "data": {
      "text/plain": [
       "[7, 8]"
      ]
     },
     "execution_count": 31,
     "metadata": {},
     "output_type": "execute_result"
    }
   ],
   "source": [
    "data[1:3]"
   ]
  },
  {
   "cell_type": "code",
   "execution_count": 32,
   "id": "f0e6a513",
   "metadata": {},
   "outputs": [
    {
     "data": {
      "text/plain": [
       "[5, 7, 8, 9, 10]"
      ]
     },
     "execution_count": 32,
     "metadata": {},
     "output_type": "execute_result"
    }
   ],
   "source": [
    "data"
   ]
  },
  {
   "cell_type": "code",
   "execution_count": 33,
   "id": "308c102e",
   "metadata": {},
   "outputs": [
    {
     "name": "stdout",
     "output_type": "stream",
     "text": [
      "v\n",
      "v\n",
      "v\n",
      "v\n",
      "v\n"
     ]
    }
   ],
   "source": [
    "for v in data:\n",
    "    print('v')"
   ]
  },
  {
   "cell_type": "code",
   "execution_count": 34,
   "id": "759139bb",
   "metadata": {},
   "outputs": [
    {
     "name": "stdout",
     "output_type": "stream",
     "text": [
      "v v v v v "
     ]
    }
   ],
   "source": [
    "for v in data:\n",
    "    print('v',end=' ')"
   ]
  },
  {
   "cell_type": "code",
   "execution_count": 35,
   "id": "214b801d",
   "metadata": {},
   "outputs": [
    {
     "name": "stdout",
     "output_type": "stream",
     "text": [
      "10\n",
      "14\n",
      "16\n",
      "18\n",
      "20\n"
     ]
    }
   ],
   "source": [
    "for j in data:\n",
    "    print(j+j)"
   ]
  },
  {
   "cell_type": "code",
   "execution_count": 36,
   "id": "e81d4c8a",
   "metadata": {},
   "outputs": [
    {
     "name": "stdout",
     "output_type": "stream",
     "text": [
      "5\n",
      "25\n",
      "7\n",
      "35\n",
      "8\n",
      "40\n",
      "9\n",
      "45\n",
      "10\n",
      "50\n"
     ]
    }
   ],
   "source": [
    "for v in data:\n",
    "    print(v)\n",
    "    v=5*v\n",
    "    print(v)"
   ]
  },
  {
   "cell_type": "code",
   "execution_count": 37,
   "id": "d811572a",
   "metadata": {},
   "outputs": [],
   "source": [
    "## while loop"
   ]
  },
  {
   "cell_type": "code",
   "execution_count": 39,
   "id": "9d64bd8a",
   "metadata": {},
   "outputs": [
    {
     "name": "stdout",
     "output_type": "stream",
     "text": [
      "1\n",
      "2\n",
      "3\n",
      "4\n",
      "5\n",
      "6\n",
      "7\n",
      "8\n",
      "9\n"
     ]
    }
   ],
   "source": [
    "i=1\n",
    "while i<10:\n",
    "    print(i)\n",
    "    i=i+1"
   ]
  },
  {
   "cell_type": "code",
   "execution_count": 40,
   "id": "c01815f6",
   "metadata": {},
   "outputs": [
    {
     "name": "stdout",
     "output_type": "stream",
     "text": [
      "i is 1\n",
      "i is 2\n",
      "i is 3\n",
      "i is 4\n",
      "i is 5\n",
      "i is 6\n",
      "i is 7\n",
      "i is 8\n",
      "i is 9\n"
     ]
    }
   ],
   "source": [
    "i=1\n",
    "while i<10:\n",
    "    print('i is {}'.format(i))\n",
    "    i=i+1"
   ]
  },
  {
   "cell_type": "code",
   "execution_count": 41,
   "id": "c908b10c",
   "metadata": {},
   "outputs": [],
   "source": [
    "## range - its a generator function"
   ]
  },
  {
   "cell_type": "code",
   "execution_count": 42,
   "id": "c470f5aa",
   "metadata": {},
   "outputs": [
    {
     "data": {
      "text/plain": [
       "range(0, 12)"
      ]
     },
     "execution_count": 42,
     "metadata": {},
     "output_type": "execute_result"
    }
   ],
   "source": [
    "range(12)"
   ]
  },
  {
   "cell_type": "code",
   "execution_count": 43,
   "id": "b1226520",
   "metadata": {},
   "outputs": [
    {
     "data": {
      "text/plain": [
       "[0, 1, 2, 3, 4, 5, 6, 7, 8, 9, 10, 11]"
      ]
     },
     "execution_count": 43,
     "metadata": {},
     "output_type": "execute_result"
    }
   ],
   "source": [
    "list(range(12))"
   ]
  },
  {
   "cell_type": "code",
   "execution_count": 44,
   "id": "988e6ce0",
   "metadata": {},
   "outputs": [
    {
     "data": {
      "text/plain": [
       "[10,\n",
       " 11,\n",
       " 12,\n",
       " 13,\n",
       " 14,\n",
       " 15,\n",
       " 16,\n",
       " 17,\n",
       " 18,\n",
       " 19,\n",
       " 20,\n",
       " 21,\n",
       " 22,\n",
       " 23,\n",
       " 24,\n",
       " 25,\n",
       " 26,\n",
       " 27,\n",
       " 28,\n",
       " 29,\n",
       " 30,\n",
       " 31,\n",
       " 32,\n",
       " 33,\n",
       " 34,\n",
       " 35,\n",
       " 36,\n",
       " 37,\n",
       " 38,\n",
       " 39,\n",
       " 40,\n",
       " 41,\n",
       " 42,\n",
       " 43,\n",
       " 44,\n",
       " 45,\n",
       " 46,\n",
       " 47,\n",
       " 48,\n",
       " 49]"
      ]
     },
     "execution_count": 44,
     "metadata": {},
     "output_type": "execute_result"
    }
   ],
   "source": [
    "list(range(10,50))"
   ]
  },
  {
   "cell_type": "code",
   "execution_count": 46,
   "id": "ac48e275",
   "metadata": {},
   "outputs": [
    {
     "data": {
      "text/plain": [
       "[10, 15, 20, 25, 30, 35, 40, 45]"
      ]
     },
     "execution_count": 46,
     "metadata": {},
     "output_type": "execute_result"
    }
   ],
   "source": [
    "list(range(10,50,5))"
   ]
  },
  {
   "cell_type": "code",
   "execution_count": 47,
   "id": "7e5c568f",
   "metadata": {},
   "outputs": [
    {
     "name": "stdout",
     "output_type": "stream",
     "text": [
      "20 23 26 29 32 35 38 "
     ]
    }
   ],
   "source": [
    "for v in range(20,40,3):\n",
    "    print(v,end=' ')"
   ]
  },
  {
   "cell_type": "code",
   "execution_count": 53,
   "id": "8a3bcdfa",
   "metadata": {},
   "outputs": [
    {
     "name": "stdout",
     "output_type": "stream",
     "text": [
      "100 200 300 400 500 600 700 800 900 "
     ]
    }
   ],
   "source": [
    "for v in range(100,1000,100):\n",
    "    print(v,end=' ')"
   ]
  },
  {
   "cell_type": "code",
   "execution_count": 56,
   "id": "b79a5837",
   "metadata": {},
   "outputs": [
    {
     "name": "stdout",
     "output_type": "stream",
     "text": [
      "-100 -90 -80 -70 -60 -50 -40 -30 -20 -10 0 10 20 30 40 50 60 70 80 90 100 "
     ]
    }
   ],
   "source": [
    "for v in range(-100,110,10):\n",
    "    print(v,end=' ')"
   ]
  },
  {
   "cell_type": "code",
   "execution_count": 57,
   "id": "d6ffea7f",
   "metadata": {},
   "outputs": [],
   "source": [
    "## List Comprehension"
   ]
  },
  {
   "cell_type": "code",
   "execution_count": 58,
   "id": "da3b4f54",
   "metadata": {},
   "outputs": [],
   "source": [
    "data=[11,12,13,14,15]"
   ]
  },
  {
   "cell_type": "code",
   "execution_count": 59,
   "id": "78e36147",
   "metadata": {},
   "outputs": [
    {
     "data": {
      "text/plain": [
       "[11, 12, 13, 14, 15]"
      ]
     },
     "execution_count": 59,
     "metadata": {},
     "output_type": "execute_result"
    }
   ],
   "source": [
    "data"
   ]
  },
  {
   "cell_type": "code",
   "execution_count": 60,
   "id": "3c25c43e",
   "metadata": {},
   "outputs": [
    {
     "data": {
      "text/plain": [
       "list"
      ]
     },
     "execution_count": 60,
     "metadata": {},
     "output_type": "execute_result"
    }
   ],
   "source": [
    "type(data)"
   ]
  },
  {
   "cell_type": "code",
   "execution_count": 61,
   "id": "07bb56c1",
   "metadata": {},
   "outputs": [
    {
     "name": "stdout",
     "output_type": "stream",
     "text": [
      "[121, 144, 169, 196, 225]\n"
     ]
    }
   ],
   "source": [
    "output=[]\n",
    "for v in data:\n",
    "    output.append(v**2)\n",
    "print(output)"
   ]
  },
  {
   "cell_type": "code",
   "execution_count": 63,
   "id": "092a4cf9",
   "metadata": {},
   "outputs": [],
   "source": [
    "out1=[x**2 for x in data]"
   ]
  },
  {
   "cell_type": "code",
   "execution_count": 64,
   "id": "3638116e",
   "metadata": {},
   "outputs": [
    {
     "data": {
      "text/plain": [
       "[121, 144, 169, 196, 225]"
      ]
     },
     "execution_count": 64,
     "metadata": {},
     "output_type": "execute_result"
    }
   ],
   "source": [
    "out1"
   ]
  },
  {
   "cell_type": "code",
   "execution_count": 65,
   "id": "d17668c3",
   "metadata": {},
   "outputs": [],
   "source": [
    "## Functions"
   ]
  },
  {
   "cell_type": "code",
   "execution_count": 66,
   "id": "622c8ff7",
   "metadata": {},
   "outputs": [],
   "source": [
    "def my_fun1():\n",
    "    print(\"Hello Everyone!!!\")"
   ]
  },
  {
   "cell_type": "code",
   "execution_count": 67,
   "id": "e165e77c",
   "metadata": {},
   "outputs": [
    {
     "data": {
      "text/plain": [
       "<function __main__.my_fun1()>"
      ]
     },
     "execution_count": 67,
     "metadata": {},
     "output_type": "execute_result"
    }
   ],
   "source": [
    "my_fun1"
   ]
  },
  {
   "cell_type": "code",
   "execution_count": 68,
   "id": "c2e60c90",
   "metadata": {},
   "outputs": [
    {
     "name": "stdout",
     "output_type": "stream",
     "text": [
      "Hello Everyone!!!\n"
     ]
    }
   ],
   "source": [
    "my_fun1()"
   ]
  },
  {
   "cell_type": "code",
   "execution_count": 69,
   "id": "4cb4510f",
   "metadata": {},
   "outputs": [
    {
     "ename": "TypeError",
     "evalue": "my_fun1() takes 0 positional arguments but 1 was given",
     "output_type": "error",
     "traceback": [
      "\u001b[1;31m---------------------------------------------------------------------------\u001b[0m",
      "\u001b[1;31mTypeError\u001b[0m                                 Traceback (most recent call last)",
      "\u001b[1;32m~\\AppData\\Local\\Temp/ipykernel_14320/645821240.py\u001b[0m in \u001b[0;36m<module>\u001b[1;34m\u001b[0m\n\u001b[1;32m----> 1\u001b[1;33m \u001b[0mmy_fun1\u001b[0m\u001b[1;33m(\u001b[0m\u001b[1;34m'hi'\u001b[0m\u001b[1;33m)\u001b[0m\u001b[1;33m\u001b[0m\u001b[1;33m\u001b[0m\u001b[0m\n\u001b[0m",
      "\u001b[1;31mTypeError\u001b[0m: my_fun1() takes 0 positional arguments but 1 was given"
     ]
    }
   ],
   "source": [
    "my_fun1('hi')"
   ]
  },
  {
   "cell_type": "code",
   "execution_count": 70,
   "id": "caf96271",
   "metadata": {},
   "outputs": [],
   "source": [
    "def my_fun2(n):\n",
    "    return n*n"
   ]
  },
  {
   "cell_type": "code",
   "execution_count": 71,
   "id": "bac41298",
   "metadata": {},
   "outputs": [
    {
     "data": {
      "text/plain": [
       "<function __main__.my_fun2(n)>"
      ]
     },
     "execution_count": 71,
     "metadata": {},
     "output_type": "execute_result"
    }
   ],
   "source": [
    "my_fun2"
   ]
  },
  {
   "cell_type": "code",
   "execution_count": 72,
   "id": "5aae4cf3",
   "metadata": {},
   "outputs": [
    {
     "ename": "TypeError",
     "evalue": "my_fun2() missing 1 required positional argument: 'n'",
     "output_type": "error",
     "traceback": [
      "\u001b[1;31m---------------------------------------------------------------------------\u001b[0m",
      "\u001b[1;31mTypeError\u001b[0m                                 Traceback (most recent call last)",
      "\u001b[1;32m~\\AppData\\Local\\Temp/ipykernel_14320/302313157.py\u001b[0m in \u001b[0;36m<module>\u001b[1;34m\u001b[0m\n\u001b[1;32m----> 1\u001b[1;33m \u001b[0mmy_fun2\u001b[0m\u001b[1;33m(\u001b[0m\u001b[1;33m)\u001b[0m\u001b[1;33m\u001b[0m\u001b[1;33m\u001b[0m\u001b[0m\n\u001b[0m",
      "\u001b[1;31mTypeError\u001b[0m: my_fun2() missing 1 required positional argument: 'n'"
     ]
    }
   ],
   "source": [
    "my_fun2()"
   ]
  },
  {
   "cell_type": "code",
   "execution_count": 73,
   "id": "00070501",
   "metadata": {},
   "outputs": [
    {
     "data": {
      "text/plain": [
       "324"
      ]
     },
     "execution_count": 73,
     "metadata": {},
     "output_type": "execute_result"
    }
   ],
   "source": [
    "my_fun2(18)"
   ]
  },
  {
   "cell_type": "code",
   "execution_count": 74,
   "id": "e5088d7f",
   "metadata": {},
   "outputs": [
    {
     "data": {
      "text/plain": [
       "64"
      ]
     },
     "execution_count": 74,
     "metadata": {},
     "output_type": "execute_result"
    }
   ],
   "source": [
    "my_fun2(8)"
   ]
  },
  {
   "cell_type": "code",
   "execution_count": 75,
   "id": "9722be1f",
   "metadata": {},
   "outputs": [
    {
     "data": {
      "text/plain": [
       "117946912356"
      ]
     },
     "execution_count": 75,
     "metadata": {},
     "output_type": "execute_result"
    }
   ],
   "source": [
    "my_fun2(343434)"
   ]
  },
  {
   "cell_type": "code",
   "execution_count": 76,
   "id": "642db6f6",
   "metadata": {},
   "outputs": [],
   "source": [
    "def my_fun3(x='India'):\n",
    "    print(x)"
   ]
  },
  {
   "cell_type": "code",
   "execution_count": 77,
   "id": "768ff8b6",
   "metadata": {},
   "outputs": [
    {
     "name": "stdout",
     "output_type": "stream",
     "text": [
      "Bharat\n"
     ]
    }
   ],
   "source": [
    "my_fun3(\"Bharat\")"
   ]
  },
  {
   "cell_type": "code",
   "execution_count": 78,
   "id": "11fcbc22",
   "metadata": {},
   "outputs": [
    {
     "name": "stdout",
     "output_type": "stream",
     "text": [
      "India\n"
     ]
    }
   ],
   "source": [
    "my_fun3()"
   ]
  },
  {
   "cell_type": "code",
   "execution_count": 79,
   "id": "f9d3e016",
   "metadata": {},
   "outputs": [],
   "source": [
    "def my_fun4(name):\n",
    "    print(\"Hello \"+name)"
   ]
  },
  {
   "cell_type": "code",
   "execution_count": 80,
   "id": "378b9d26",
   "metadata": {},
   "outputs": [
    {
     "name": "stdout",
     "output_type": "stream",
     "text": [
      "Hello Rohit\n"
     ]
    }
   ],
   "source": [
    "my_fun4(\"Rohit\")"
   ]
  },
  {
   "cell_type": "code",
   "execution_count": 81,
   "id": "9728c9c0",
   "metadata": {},
   "outputs": [
    {
     "data": {
      "text/plain": [
       "'Hello Rohit'"
      ]
     },
     "execution_count": 81,
     "metadata": {},
     "output_type": "execute_result"
    }
   ],
   "source": [
    "\"Hello \"+ \"Rohit\""
   ]
  },
  {
   "cell_type": "code",
   "execution_count": 82,
   "id": "cdd323cc",
   "metadata": {},
   "outputs": [],
   "source": [
    "def add2_numbers(a,b):\n",
    "    return a+b"
   ]
  },
  {
   "cell_type": "code",
   "execution_count": 83,
   "id": "00bd77d6",
   "metadata": {},
   "outputs": [
    {
     "data": {
      "text/plain": [
       "13"
      ]
     },
     "execution_count": 83,
     "metadata": {},
     "output_type": "execute_result"
    }
   ],
   "source": [
    "add2_numbers(5,8)"
   ]
  },
  {
   "cell_type": "code",
   "execution_count": 87,
   "id": "6db90eb3",
   "metadata": {},
   "outputs": [],
   "source": [
    "#dffsdfdsfsdf dsfsdfds"
   ]
  },
  {
   "cell_type": "code",
   "execution_count": 88,
   "id": "ccc351e2",
   "metadata": {},
   "outputs": [
    {
     "data": {
      "text/plain": [
       "'\\nfsdfdfbds f ddfd fsdf sdfsdfsdf\\nsdfdf\\nsdf\\nsdff\\nds\\nfsd\\n'"
      ]
     },
     "execution_count": 88,
     "metadata": {},
     "output_type": "execute_result"
    }
   ],
   "source": [
    "\"\"\"\n",
    "fsdfdfbds f ddfd fsdf sdfsdfsdf\n",
    "sdfdf\n",
    "sdf\n",
    "sdff\n",
    "ds\n",
    "fsd\n",
    "\"\"\""
   ]
  },
  {
   "cell_type": "code",
   "execution_count": 89,
   "id": "52acb31b",
   "metadata": {},
   "outputs": [
    {
     "data": {
      "text/plain": [
       "'\\nsfjsdfdfn hsddfdhf hf fd dfdfd\\ndfd\\nfdsfsdfsdf\\n\\nfdf\\n\\n'"
      ]
     },
     "execution_count": 89,
     "metadata": {},
     "output_type": "execute_result"
    }
   ],
   "source": [
    "'''\n",
    "sfjsdfdfn hsddfdhf hf fd dfdfd\n",
    "dfd\n",
    "fdsfsdfsdf\n",
    "\n",
    "fdf\n",
    "\n",
    "'''"
   ]
  },
  {
   "cell_type": "code",
   "execution_count": 90,
   "id": "c44a4bf8",
   "metadata": {},
   "outputs": [],
   "source": [
    "def add2_numbers(a,b):\n",
    "    \"\"\"\n",
    "    This function adds 2 numbers\n",
    "    Syantax: add2_numbers(a,b)\n",
    "    \n",
    "    Note:This function is written by Mr. Yogesh Murumkar \n",
    "    \n",
    "    \"\"\"\n",
    "    return a+b"
   ]
  },
  {
   "cell_type": "code",
   "execution_count": 91,
   "id": "06246d50",
   "metadata": {},
   "outputs": [
    {
     "data": {
      "text/plain": [
       "11"
      ]
     },
     "execution_count": 91,
     "metadata": {},
     "output_type": "execute_result"
    }
   ],
   "source": [
    "add2_numbers(4,7)"
   ]
  },
  {
   "cell_type": "code",
   "execution_count": 96,
   "id": "b28f814f",
   "metadata": {},
   "outputs": [],
   "source": [
    "def fun1(n1):\n",
    "    return n1*n1"
   ]
  },
  {
   "cell_type": "code",
   "execution_count": 93,
   "id": "a8ff59c7",
   "metadata": {},
   "outputs": [],
   "source": [
    "def fun2(n2):\n",
    "    print(n2*n2)"
   ]
  },
  {
   "cell_type": "code",
   "execution_count": 97,
   "id": "da3c8fde",
   "metadata": {},
   "outputs": [],
   "source": [
    "res1=fun1(9)"
   ]
  },
  {
   "cell_type": "code",
   "execution_count": 98,
   "id": "fc4cf47d",
   "metadata": {},
   "outputs": [
    {
     "data": {
      "text/plain": [
       "81"
      ]
     },
     "execution_count": 98,
     "metadata": {},
     "output_type": "execute_result"
    }
   ],
   "source": [
    "res1"
   ]
  },
  {
   "cell_type": "code",
   "execution_count": 99,
   "id": "996728b3",
   "metadata": {},
   "outputs": [
    {
     "name": "stdout",
     "output_type": "stream",
     "text": [
      "81\n"
     ]
    }
   ],
   "source": [
    "res2=fun2(9)"
   ]
  },
  {
   "cell_type": "code",
   "execution_count": 100,
   "id": "8c8c0250",
   "metadata": {},
   "outputs": [],
   "source": [
    "res2"
   ]
  },
  {
   "cell_type": "code",
   "execution_count": 101,
   "id": "4d9767b6",
   "metadata": {},
   "outputs": [
    {
     "data": {
      "text/plain": [
       "81"
      ]
     },
     "execution_count": 101,
     "metadata": {},
     "output_type": "execute_result"
    }
   ],
   "source": [
    "fun1(9)"
   ]
  },
  {
   "cell_type": "code",
   "execution_count": 102,
   "id": "297c39a7",
   "metadata": {},
   "outputs": [
    {
     "name": "stdout",
     "output_type": "stream",
     "text": [
      "81\n"
     ]
    }
   ],
   "source": [
    "fun2(9)"
   ]
  },
  {
   "cell_type": "code",
   "execution_count": 103,
   "id": "666181e4",
   "metadata": {},
   "outputs": [],
   "source": [
    "a=56"
   ]
  },
  {
   "cell_type": "code",
   "execution_count": 104,
   "id": "56377947",
   "metadata": {},
   "outputs": [
    {
     "data": {
      "text/plain": [
       "int"
      ]
     },
     "execution_count": 104,
     "metadata": {},
     "output_type": "execute_result"
    }
   ],
   "source": [
    "type(a)"
   ]
  },
  {
   "cell_type": "code",
   "execution_count": 105,
   "id": "3cae9f3a",
   "metadata": {},
   "outputs": [
    {
     "name": "stdout",
     "output_type": "stream",
     "text": [
      "56\n"
     ]
    }
   ],
   "source": [
    "print(a)"
   ]
  },
  {
   "cell_type": "code",
   "execution_count": 106,
   "id": "c0cedcbd",
   "metadata": {},
   "outputs": [
    {
     "name": "stdout",
     "output_type": "stream",
     "text": [
      "56\n"
     ]
    },
    {
     "data": {
      "text/plain": [
       "NoneType"
      ]
     },
     "execution_count": 106,
     "metadata": {},
     "output_type": "execute_result"
    }
   ],
   "source": [
    "type(print(a))"
   ]
  },
  {
   "cell_type": "code",
   "execution_count": 107,
   "id": "9ff733c4",
   "metadata": {},
   "outputs": [
    {
     "name": "stdout",
     "output_type": "stream",
     "text": [
      "hi\n"
     ]
    }
   ],
   "source": [
    "print('hi')"
   ]
  },
  {
   "cell_type": "code",
   "execution_count": 109,
   "id": "f95033cb",
   "metadata": {},
   "outputs": [
    {
     "data": {
      "text/plain": [
       "int"
      ]
     },
     "execution_count": 109,
     "metadata": {},
     "output_type": "execute_result"
    }
   ],
   "source": [
    "'''\n",
    "def fun1(n1):\n",
    "    return n1*n1\n",
    "    \n",
    "def fun2(n2):\n",
    "    print(n2*n2)\n",
    "'''\n",
    "type(fun1(9))"
   ]
  },
  {
   "cell_type": "code",
   "execution_count": 110,
   "id": "fc027671",
   "metadata": {},
   "outputs": [
    {
     "name": "stdout",
     "output_type": "stream",
     "text": [
      "81\n"
     ]
    },
    {
     "data": {
      "text/plain": [
       "NoneType"
      ]
     },
     "execution_count": 110,
     "metadata": {},
     "output_type": "execute_result"
    }
   ],
   "source": [
    "type(fun2(9))"
   ]
  },
  {
   "cell_type": "code",
   "execution_count": 111,
   "id": "7c7b3f2e",
   "metadata": {},
   "outputs": [
    {
     "data": {
      "text/plain": [
       "100"
      ]
     },
     "execution_count": 111,
     "metadata": {},
     "output_type": "execute_result"
    }
   ],
   "source": [
    "fun1(5)*4"
   ]
  },
  {
   "cell_type": "code",
   "execution_count": 114,
   "id": "2eba35f4",
   "metadata": {},
   "outputs": [
    {
     "name": "stdout",
     "output_type": "stream",
     "text": [
      "25\n"
     ]
    },
    {
     "ename": "TypeError",
     "evalue": "unsupported operand type(s) for *: 'NoneType' and 'int'",
     "output_type": "error",
     "traceback": [
      "\u001b[1;31m---------------------------------------------------------------------------\u001b[0m",
      "\u001b[1;31mTypeError\u001b[0m                                 Traceback (most recent call last)",
      "\u001b[1;32m~\\AppData\\Local\\Temp/ipykernel_14320/3591973655.py\u001b[0m in \u001b[0;36m<module>\u001b[1;34m\u001b[0m\n\u001b[1;32m----> 1\u001b[1;33m \u001b[0mfun2\u001b[0m\u001b[1;33m(\u001b[0m\u001b[1;36m5\u001b[0m\u001b[1;33m)\u001b[0m\u001b[1;33m*\u001b[0m\u001b[1;36m4\u001b[0m\u001b[1;33m\u001b[0m\u001b[1;33m\u001b[0m\u001b[0m\n\u001b[0m",
      "\u001b[1;31mTypeError\u001b[0m: unsupported operand type(s) for *: 'NoneType' and 'int'"
     ]
    }
   ],
   "source": [
    "fun2(5)*4"
   ]
  },
  {
   "cell_type": "code",
   "execution_count": 115,
   "id": "beb12995",
   "metadata": {},
   "outputs": [],
   "source": [
    "def find_cube(a):\n",
    "    return a*a*a"
   ]
  },
  {
   "cell_type": "code",
   "execution_count": 116,
   "id": "966a9cc2",
   "metadata": {},
   "outputs": [
    {
     "data": {
      "text/plain": [
       "343"
      ]
     },
     "execution_count": 116,
     "metadata": {},
     "output_type": "execute_result"
    }
   ],
   "source": [
    "find_cube(7)"
   ]
  },
  {
   "cell_type": "code",
   "execution_count": 118,
   "id": "7d881bdd",
   "metadata": {},
   "outputs": [],
   "source": [
    "## Lambda Expressions - an anonymous function"
   ]
  },
  {
   "cell_type": "code",
   "execution_count": 119,
   "id": "d7afea56",
   "metadata": {},
   "outputs": [],
   "source": [
    "def find_cube(a):\n",
    "    return a*a*a"
   ]
  },
  {
   "cell_type": "code",
   "execution_count": 120,
   "id": "47ff313a",
   "metadata": {},
   "outputs": [
    {
     "data": {
      "text/plain": [
       "64"
      ]
     },
     "execution_count": 120,
     "metadata": {},
     "output_type": "execute_result"
    }
   ],
   "source": [
    "find_cube(4)"
   ]
  },
  {
   "cell_type": "code",
   "execution_count": 121,
   "id": "0560e1ec",
   "metadata": {},
   "outputs": [
    {
     "data": {
      "text/plain": [
       "<function __main__.<lambda>(s)>"
      ]
     },
     "execution_count": 121,
     "metadata": {},
     "output_type": "execute_result"
    }
   ],
   "source": [
    "lambda s:s*s*s"
   ]
  },
  {
   "cell_type": "code",
   "execution_count": 122,
   "id": "5d5d65af",
   "metadata": {},
   "outputs": [],
   "source": [
    "find_cube_lambda=lambda s:s*s*s"
   ]
  },
  {
   "cell_type": "code",
   "execution_count": 123,
   "id": "65135632",
   "metadata": {},
   "outputs": [
    {
     "data": {
      "text/plain": [
       "64"
      ]
     },
     "execution_count": 123,
     "metadata": {},
     "output_type": "execute_result"
    }
   ],
   "source": [
    "find_cube_lambda(4)"
   ]
  },
  {
   "cell_type": "code",
   "execution_count": 124,
   "id": "8425b7db",
   "metadata": {},
   "outputs": [],
   "source": [
    "## map and filter"
   ]
  },
  {
   "cell_type": "code",
   "execution_count": 125,
   "id": "993548d2",
   "metadata": {},
   "outputs": [],
   "source": [
    "data=[11,12,13,14,15]"
   ]
  },
  {
   "cell_type": "code",
   "execution_count": 126,
   "id": "4af9e764",
   "metadata": {},
   "outputs": [
    {
     "data": {
      "text/plain": [
       "[11, 12, 13, 14, 15]"
      ]
     },
     "execution_count": 126,
     "metadata": {},
     "output_type": "execute_result"
    }
   ],
   "source": [
    "data"
   ]
  },
  {
   "cell_type": "code",
   "execution_count": 127,
   "id": "d1bc1c72",
   "metadata": {},
   "outputs": [
    {
     "data": {
      "text/plain": [
       "<map at 0x17c90d25640>"
      ]
     },
     "execution_count": 127,
     "metadata": {},
     "output_type": "execute_result"
    }
   ],
   "source": [
    "map(find_cube_lambda,data)"
   ]
  },
  {
   "cell_type": "code",
   "execution_count": 128,
   "id": "e6b9a56c",
   "metadata": {},
   "outputs": [
    {
     "data": {
      "text/plain": [
       "[1331, 1728, 2197, 2744, 3375]"
      ]
     },
     "execution_count": 128,
     "metadata": {},
     "output_type": "execute_result"
    }
   ],
   "source": [
    "list(map(find_cube_lambda,data))"
   ]
  },
  {
   "cell_type": "code",
   "execution_count": 129,
   "id": "f282431d",
   "metadata": {},
   "outputs": [
    {
     "data": {
      "text/plain": [
       "[11, 12, 13, 14, 15]"
      ]
     },
     "execution_count": 129,
     "metadata": {},
     "output_type": "execute_result"
    }
   ],
   "source": [
    "data"
   ]
  },
  {
   "cell_type": "code",
   "execution_count": 130,
   "id": "e57591a6",
   "metadata": {},
   "outputs": [
    {
     "data": {
      "text/plain": [
       "[False, True, False, True, False]"
      ]
     },
     "execution_count": 130,
     "metadata": {},
     "output_type": "execute_result"
    }
   ],
   "source": [
    "list(map(lambda x:x%2==0,data))"
   ]
  },
  {
   "cell_type": "code",
   "execution_count": 131,
   "id": "45575bd4",
   "metadata": {},
   "outputs": [
    {
     "data": {
      "text/plain": [
       "[12, 14]"
      ]
     },
     "execution_count": 131,
     "metadata": {},
     "output_type": "execute_result"
    }
   ],
   "source": [
    "list(filter(lambda x:x%2==0,data))"
   ]
  },
  {
   "cell_type": "code",
   "execution_count": 132,
   "id": "4e3ac651",
   "metadata": {},
   "outputs": [],
   "source": [
    "data=['hello','bye','apple','mango','banana']"
   ]
  },
  {
   "cell_type": "code",
   "execution_count": 133,
   "id": "b57483c2",
   "metadata": {},
   "outputs": [
    {
     "data": {
      "text/plain": [
       "['hello', 'bye', 'apple', 'mango', 'banana']"
      ]
     },
     "execution_count": 133,
     "metadata": {},
     "output_type": "execute_result"
    }
   ],
   "source": [
    "data"
   ]
  },
  {
   "cell_type": "code",
   "execution_count": 134,
   "id": "a76f3fe5",
   "metadata": {},
   "outputs": [
    {
     "data": {
      "text/plain": [
       "[False, True, True, False, False]"
      ]
     },
     "execution_count": 134,
     "metadata": {},
     "output_type": "execute_result"
    }
   ],
   "source": [
    "list(map(lambda v:v[-1]=='e',data))"
   ]
  },
  {
   "cell_type": "code",
   "execution_count": 135,
   "id": "2c2dd803",
   "metadata": {},
   "outputs": [
    {
     "data": {
      "text/plain": [
       "['bye', 'apple']"
      ]
     },
     "execution_count": 135,
     "metadata": {},
     "output_type": "execute_result"
    }
   ],
   "source": [
    "list(filter(lambda v:v[-1]=='e',data))"
   ]
  },
  {
   "cell_type": "code",
   "execution_count": 136,
   "id": "05e781fe",
   "metadata": {},
   "outputs": [
    {
     "data": {
      "text/plain": [
       "['hello', 'bye', 'apple', 'mango', 'banana']"
      ]
     },
     "execution_count": 136,
     "metadata": {},
     "output_type": "execute_result"
    }
   ],
   "source": [
    "data"
   ]
  },
  {
   "cell_type": "code",
   "execution_count": 137,
   "id": "f0d9a053",
   "metadata": {},
   "outputs": [
    {
     "data": {
      "text/plain": [
       "<function __main__.<lambda>(z)>"
      ]
     },
     "execution_count": 137,
     "metadata": {},
     "output_type": "execute_result"
    }
   ],
   "source": [
    "lambda z:z[1]=='a'"
   ]
  },
  {
   "cell_type": "code",
   "execution_count": 138,
   "id": "51eac069",
   "metadata": {},
   "outputs": [
    {
     "data": {
      "text/plain": [
       "[False, False, False, True, True]"
      ]
     },
     "execution_count": 138,
     "metadata": {},
     "output_type": "execute_result"
    }
   ],
   "source": [
    "list(map(lambda z:z[1]=='a',data))"
   ]
  },
  {
   "cell_type": "code",
   "execution_count": 139,
   "id": "d1c75cf4",
   "metadata": {},
   "outputs": [
    {
     "data": {
      "text/plain": [
       "['mango', 'banana']"
      ]
     },
     "execution_count": 139,
     "metadata": {},
     "output_type": "execute_result"
    }
   ],
   "source": [
    "list(filter(lambda z:z[1]=='a',data))"
   ]
  },
  {
   "cell_type": "code",
   "execution_count": 140,
   "id": "54dbad4f",
   "metadata": {},
   "outputs": [],
   "source": [
    "s=\"hello everyone, we are learning, python and ! it needs! practice\""
   ]
  },
  {
   "cell_type": "code",
   "execution_count": 141,
   "id": "576c2fc1",
   "metadata": {},
   "outputs": [
    {
     "data": {
      "text/plain": [
       "'hello everyone, we are learning, python and ! it needs! practice'"
      ]
     },
     "execution_count": 141,
     "metadata": {},
     "output_type": "execute_result"
    }
   ],
   "source": [
    "s"
   ]
  },
  {
   "cell_type": "code",
   "execution_count": 142,
   "id": "1e5fa5f7",
   "metadata": {},
   "outputs": [
    {
     "data": {
      "text/plain": [
       "['hello',\n",
       " 'everyone,',\n",
       " 'we',\n",
       " 'are',\n",
       " 'learning,',\n",
       " 'python',\n",
       " 'and',\n",
       " '!',\n",
       " 'it',\n",
       " 'needs!',\n",
       " 'practice']"
      ]
     },
     "execution_count": 142,
     "metadata": {},
     "output_type": "execute_result"
    }
   ],
   "source": [
    "s.split()"
   ]
  },
  {
   "cell_type": "code",
   "execution_count": 143,
   "id": "b414e476",
   "metadata": {},
   "outputs": [
    {
     "data": {
      "text/plain": [
       "'python'"
      ]
     },
     "execution_count": 143,
     "metadata": {},
     "output_type": "execute_result"
    }
   ],
   "source": [
    "s.split()[5]"
   ]
  },
  {
   "cell_type": "code",
   "execution_count": 144,
   "id": "8eff139b",
   "metadata": {},
   "outputs": [
    {
     "data": {
      "text/plain": [
       "'yth'"
      ]
     },
     "execution_count": 144,
     "metadata": {},
     "output_type": "execute_result"
    }
   ],
   "source": [
    "s.split()[5][1:4]"
   ]
  },
  {
   "cell_type": "code",
   "execution_count": 145,
   "id": "cbb551c2",
   "metadata": {},
   "outputs": [
    {
     "data": {
      "text/plain": [
       "'hello everyone, we are learning, python and ! it needs! practice'"
      ]
     },
     "execution_count": 145,
     "metadata": {},
     "output_type": "execute_result"
    }
   ],
   "source": [
    "s"
   ]
  },
  {
   "cell_type": "code",
   "execution_count": 146,
   "id": "aa2afcac",
   "metadata": {},
   "outputs": [
    {
     "data": {
      "text/plain": [
       "['hello everyone', ' we are learning', ' python and ! it needs! practice']"
      ]
     },
     "execution_count": 146,
     "metadata": {},
     "output_type": "execute_result"
    }
   ],
   "source": [
    "s.split(',')"
   ]
  },
  {
   "cell_type": "code",
   "execution_count": 147,
   "id": "3b3c5058",
   "metadata": {},
   "outputs": [
    {
     "data": {
      "text/plain": [
       "'hello everyone, we are learning, python and ! it needs! practice'"
      ]
     },
     "execution_count": 147,
     "metadata": {},
     "output_type": "execute_result"
    }
   ],
   "source": [
    "s"
   ]
  },
  {
   "cell_type": "code",
   "execution_count": 149,
   "id": "ecf18019",
   "metadata": {},
   "outputs": [
    {
     "data": {
      "text/plain": [
       "['hello everyone, we are learning, python and ', ' it needs', ' practice']"
      ]
     },
     "execution_count": 149,
     "metadata": {},
     "output_type": "execute_result"
    }
   ],
   "source": [
    "s.split('!')"
   ]
  },
  {
   "cell_type": "code",
   "execution_count": 1,
   "id": "f093882a",
   "metadata": {},
   "outputs": [],
   "source": [
    "data=[(10,20),(30,40),(50,60)]"
   ]
  },
  {
   "cell_type": "code",
   "execution_count": 2,
   "id": "d28307bf",
   "metadata": {},
   "outputs": [
    {
     "data": {
      "text/plain": [
       "list"
      ]
     },
     "execution_count": 2,
     "metadata": {},
     "output_type": "execute_result"
    }
   ],
   "source": [
    "type(data)"
   ]
  },
  {
   "cell_type": "code",
   "execution_count": 3,
   "id": "4ea53174",
   "metadata": {},
   "outputs": [
    {
     "data": {
      "text/plain": [
       "(10, 20)"
      ]
     },
     "execution_count": 3,
     "metadata": {},
     "output_type": "execute_result"
    }
   ],
   "source": [
    "data[0]"
   ]
  },
  {
   "cell_type": "code",
   "execution_count": 4,
   "id": "d3fab7f9",
   "metadata": {},
   "outputs": [
    {
     "data": {
      "text/plain": [
       "20"
      ]
     },
     "execution_count": 4,
     "metadata": {},
     "output_type": "execute_result"
    }
   ],
   "source": [
    "data[0][1]"
   ]
  },
  {
   "cell_type": "code",
   "execution_count": 5,
   "id": "6cb77a43",
   "metadata": {},
   "outputs": [
    {
     "data": {
      "text/plain": [
       "(30, 40)"
      ]
     },
     "execution_count": 5,
     "metadata": {},
     "output_type": "execute_result"
    }
   ],
   "source": [
    "data[1]"
   ]
  },
  {
   "cell_type": "code",
   "execution_count": 6,
   "id": "e1364fa9",
   "metadata": {},
   "outputs": [
    {
     "data": {
      "text/plain": [
       "tuple"
      ]
     },
     "execution_count": 6,
     "metadata": {},
     "output_type": "execute_result"
    }
   ],
   "source": [
    "type(data[1])"
   ]
  },
  {
   "cell_type": "code",
   "execution_count": 7,
   "id": "5d938808",
   "metadata": {},
   "outputs": [
    {
     "data": {
      "text/plain": [
       "40"
      ]
     },
     "execution_count": 7,
     "metadata": {},
     "output_type": "execute_result"
    }
   ],
   "source": [
    "data[1][1]"
   ]
  },
  {
   "cell_type": "code",
   "execution_count": 8,
   "id": "c64f9cfc",
   "metadata": {},
   "outputs": [
    {
     "data": {
      "text/plain": [
       "[(10, 20), (30, 40), (50, 60)]"
      ]
     },
     "execution_count": 8,
     "metadata": {},
     "output_type": "execute_result"
    }
   ],
   "source": [
    "data"
   ]
  },
  {
   "cell_type": "code",
   "execution_count": 9,
   "id": "488bea5c",
   "metadata": {},
   "outputs": [
    {
     "name": "stdout",
     "output_type": "stream",
     "text": [
      "(10, 20)\n",
      "(30, 40)\n",
      "(50, 60)\n"
     ]
    }
   ],
   "source": [
    "for v in data:\n",
    "    print(v)"
   ]
  },
  {
   "cell_type": "code",
   "execution_count": 10,
   "id": "1d0244a4",
   "metadata": {},
   "outputs": [
    {
     "name": "stdout",
     "output_type": "stream",
     "text": [
      "10\n",
      "30\n",
      "50\n"
     ]
    }
   ],
   "source": [
    "for v in data:\n",
    "    print(v[0])"
   ]
  },
  {
   "cell_type": "code",
   "execution_count": 11,
   "id": "879df46c",
   "metadata": {},
   "outputs": [
    {
     "name": "stdout",
     "output_type": "stream",
     "text": [
      "10\n",
      "30\n",
      "50\n"
     ]
    }
   ],
   "source": [
    "for x,y in data:\n",
    "    print(x)"
   ]
  },
  {
   "cell_type": "code",
   "execution_count": 12,
   "id": "86211e55",
   "metadata": {},
   "outputs": [
    {
     "name": "stdout",
     "output_type": "stream",
     "text": [
      "10\n",
      "30\n",
      "50\n"
     ]
    }
   ],
   "source": [
    "for (x,y) in data:\n",
    "    print(x)"
   ]
  },
  {
   "cell_type": "code",
   "execution_count": 13,
   "id": "3aa099e1",
   "metadata": {},
   "outputs": [
    {
     "data": {
      "text/plain": [
       "[(10, 20), (30, 40), (50, 60)]"
      ]
     },
     "execution_count": 13,
     "metadata": {},
     "output_type": "execute_result"
    }
   ],
   "source": [
    "data"
   ]
  },
  {
   "cell_type": "code",
   "execution_count": 15,
   "id": "662b1162",
   "metadata": {},
   "outputs": [
    {
     "name": "stdout",
     "output_type": "stream",
     "text": [
      "10 30 50 "
     ]
    }
   ],
   "source": [
    "for v  in data:\n",
    "    print(v[0],end=' ')"
   ]
  },
  {
   "cell_type": "code",
   "execution_count": 19,
   "id": "b1623c9d",
   "metadata": {},
   "outputs": [
    {
     "name": "stdout",
     "output_type": "stream",
     "text": [
      "20   40   60   "
     ]
    }
   ],
   "source": [
    "for x in data:\n",
    "    print(x[1],sep=' ',end='   ')"
   ]
  },
  {
   "cell_type": "code",
   "execution_count": 20,
   "id": "fab354fa",
   "metadata": {},
   "outputs": [],
   "source": [
    "x=25\n",
    "y='abcd'"
   ]
  },
  {
   "cell_type": "code",
   "execution_count": 21,
   "id": "6d2997cf",
   "metadata": {},
   "outputs": [
    {
     "data": {
      "text/plain": [
       "25"
      ]
     },
     "execution_count": 21,
     "metadata": {},
     "output_type": "execute_result"
    }
   ],
   "source": [
    "x"
   ]
  },
  {
   "cell_type": "code",
   "execution_count": 22,
   "id": "a0a095e8",
   "metadata": {},
   "outputs": [
    {
     "data": {
      "text/plain": [
       "'abcd'"
      ]
     },
     "execution_count": 22,
     "metadata": {},
     "output_type": "execute_result"
    }
   ],
   "source": [
    "y"
   ]
  },
  {
   "cell_type": "code",
   "execution_count": 23,
   "id": "82445860",
   "metadata": {},
   "outputs": [
    {
     "name": "stdout",
     "output_type": "stream",
     "text": [
      "25,abcd\n"
     ]
    }
   ],
   "source": [
    "print(x,y,sep=',')"
   ]
  },
  {
   "cell_type": "code",
   "execution_count": 24,
   "id": "453142db",
   "metadata": {},
   "outputs": [
    {
     "name": "stdout",
     "output_type": "stream",
     "text": [
      "25 abcd,"
     ]
    }
   ],
   "source": [
    "print(x,y,end=',')"
   ]
  },
  {
   "cell_type": "code",
   "execution_count": 25,
   "id": "691ae77d",
   "metadata": {},
   "outputs": [
    {
     "data": {
      "text/plain": [
       "2401"
      ]
     },
     "execution_count": 25,
     "metadata": {},
     "output_type": "execute_result"
    }
   ],
   "source": [
    "7**4"
   ]
  },
  {
   "cell_type": "code",
   "execution_count": 26,
   "id": "a6dec81c",
   "metadata": {},
   "outputs": [],
   "source": [
    "s = \"Hi there Yogesh!\""
   ]
  },
  {
   "cell_type": "code",
   "execution_count": 27,
   "id": "6ce932cf",
   "metadata": {},
   "outputs": [
    {
     "data": {
      "text/plain": [
       "['Hi', 'there', 'Yogesh!']"
      ]
     },
     "execution_count": 27,
     "metadata": {},
     "output_type": "execute_result"
    }
   ],
   "source": [
    "s.split()"
   ]
  },
  {
   "cell_type": "code",
   "execution_count": 28,
   "id": "332055bc",
   "metadata": {},
   "outputs": [],
   "source": [
    "a = \"Earth\"\n",
    "b = \"12742\""
   ]
  },
  {
   "cell_type": "code",
   "execution_count": 30,
   "id": "bc24f1c9",
   "metadata": {},
   "outputs": [
    {
     "data": {
      "text/plain": [
       "'The diameter of Earth is diameter 12742'"
      ]
     },
     "execution_count": 30,
     "metadata": {},
     "output_type": "execute_result"
    }
   ],
   "source": [
    "'The diameter of {} is diameter {}'.format(a,b)"
   ]
  },
  {
   "cell_type": "code",
   "execution_count": 31,
   "id": "f9cdc326",
   "metadata": {},
   "outputs": [],
   "source": [
    "lst = [1,2,[3,4],[5,[100,200,['hello']],23,11],1,7]"
   ]
  },
  {
   "cell_type": "code",
   "execution_count": 32,
   "id": "0ea6c223",
   "metadata": {},
   "outputs": [
    {
     "data": {
      "text/plain": [
       "'hello'"
      ]
     },
     "execution_count": 32,
     "metadata": {},
     "output_type": "execute_result"
    }
   ],
   "source": [
    "lst[3][1][2][0]"
   ]
  },
  {
   "cell_type": "code",
   "execution_count": 33,
   "id": "e88eb3d2",
   "metadata": {},
   "outputs": [
    {
     "data": {
      "text/plain": [
       "['hello']"
      ]
     },
     "execution_count": 33,
     "metadata": {},
     "output_type": "execute_result"
    }
   ],
   "source": [
    "lst[3][1][2]"
   ]
  },
  {
   "cell_type": "code",
   "execution_count": 34,
   "id": "54b25b10",
   "metadata": {},
   "outputs": [
    {
     "data": {
      "text/plain": [
       "[1, 2, [3, 4], [5, [100, 200, ['hello']], 23, 11], 1, 7]"
      ]
     },
     "execution_count": 34,
     "metadata": {},
     "output_type": "execute_result"
    }
   ],
   "source": [
    "lst"
   ]
  },
  {
   "cell_type": "code",
   "execution_count": 35,
   "id": "048bb267",
   "metadata": {},
   "outputs": [
    {
     "data": {
      "text/plain": [
       "[5, [100, 200, ['hello']], 23, 11]"
      ]
     },
     "execution_count": 35,
     "metadata": {},
     "output_type": "execute_result"
    }
   ],
   "source": [
    "lst[3]"
   ]
  },
  {
   "cell_type": "code",
   "execution_count": 36,
   "id": "a3ba394f",
   "metadata": {},
   "outputs": [
    {
     "data": {
      "text/plain": [
       "[100, 200, ['hello']]"
      ]
     },
     "execution_count": 36,
     "metadata": {},
     "output_type": "execute_result"
    }
   ],
   "source": [
    "lst[3][1]"
   ]
  },
  {
   "cell_type": "code",
   "execution_count": 37,
   "id": "6ba5c7d4",
   "metadata": {},
   "outputs": [
    {
     "data": {
      "text/plain": [
       "['hello']"
      ]
     },
     "execution_count": 37,
     "metadata": {},
     "output_type": "execute_result"
    }
   ],
   "source": [
    "lst[3][1][2]"
   ]
  },
  {
   "cell_type": "code",
   "execution_count": 38,
   "id": "9d5ff0ba",
   "metadata": {},
   "outputs": [
    {
     "data": {
      "text/plain": [
       "'hello'"
      ]
     },
     "execution_count": 38,
     "metadata": {},
     "output_type": "execute_result"
    }
   ],
   "source": [
    "lst[3][1][2][0]"
   ]
  },
  {
   "cell_type": "code",
   "execution_count": 39,
   "id": "dab6cbd9",
   "metadata": {},
   "outputs": [],
   "source": [
    "d = {'k1':[1,2,3,{'tricky':['oh','man','inception',{'target':[1,2,3,'hello']}]}]}"
   ]
  },
  {
   "cell_type": "code",
   "execution_count": 40,
   "id": "b67668a5",
   "metadata": {},
   "outputs": [
    {
     "data": {
      "text/plain": [
       "{'k1': [1,\n",
       "  2,\n",
       "  3,\n",
       "  {'tricky': ['oh', 'man', 'inception', {'target': [1, 2, 3, 'hello']}]}]}"
      ]
     },
     "execution_count": 40,
     "metadata": {},
     "output_type": "execute_result"
    }
   ],
   "source": [
    "d"
   ]
  },
  {
   "cell_type": "code",
   "execution_count": 41,
   "id": "fc13eff4",
   "metadata": {},
   "outputs": [
    {
     "data": {
      "text/plain": [
       "'hello'"
      ]
     },
     "execution_count": 41,
     "metadata": {},
     "output_type": "execute_result"
    }
   ],
   "source": [
    "d[\"k1\"][3]['tricky'][3]['target'][3]"
   ]
  },
  {
   "cell_type": "code",
   "execution_count": 42,
   "id": "118c4047",
   "metadata": {},
   "outputs": [
    {
     "data": {
      "text/plain": [
       "'hello'"
      ]
     },
     "execution_count": 42,
     "metadata": {},
     "output_type": "execute_result"
    }
   ],
   "source": [
    "d['k1'][3]['tricky'][3]['target'][3]"
   ]
  },
  {
   "cell_type": "code",
   "execution_count": 43,
   "id": "7d4701f5",
   "metadata": {},
   "outputs": [
    {
     "data": {
      "text/plain": [
       "dict_values([[1, 2, 3, {'tricky': ['oh', 'man', 'inception', {'target': [1, 2, 3, 'hello']}]}]])"
      ]
     },
     "execution_count": 43,
     "metadata": {},
     "output_type": "execute_result"
    }
   ],
   "source": [
    "d.values()"
   ]
  },
  {
   "cell_type": "code",
   "execution_count": 44,
   "id": "e02fe2b8",
   "metadata": {},
   "outputs": [
    {
     "data": {
      "text/plain": [
       "dict_values"
      ]
     },
     "execution_count": 44,
     "metadata": {},
     "output_type": "execute_result"
    }
   ],
   "source": [
    "type(d.values())"
   ]
  },
  {
   "cell_type": "code",
   "execution_count": 45,
   "id": "678b7717",
   "metadata": {},
   "outputs": [
    {
     "data": {
      "text/plain": [
       "{'k1': [1,\n",
       "  2,\n",
       "  3,\n",
       "  {'tricky': ['oh', 'man', 'inception', {'target': [1, 2, 3, 'hello']}]}]}"
      ]
     },
     "execution_count": 45,
     "metadata": {},
     "output_type": "execute_result"
    }
   ],
   "source": [
    "d"
   ]
  },
  {
   "cell_type": "code",
   "execution_count": 46,
   "id": "0d600368",
   "metadata": {},
   "outputs": [
    {
     "name": "stdout",
     "output_type": "stream",
     "text": [
      "gmail.com\n"
     ]
    }
   ],
   "source": [
    "def fun1(a):\n",
    "\tx = a.split('@')\n",
    "\treturn x[1]\n",
    "    \n",
    "print(fun1('abcd@gmail.com'))"
   ]
  },
  {
   "cell_type": "code",
   "execution_count": 47,
   "id": "5b52026d",
   "metadata": {},
   "outputs": [
    {
     "data": {
      "text/plain": [
       "'gmail.com'"
      ]
     },
     "execution_count": 47,
     "metadata": {},
     "output_type": "execute_result"
    }
   ],
   "source": [
    "def fun1(gmail):\n",
    "    domain = gmail.split('@')[1]\n",
    "    return domain\n",
    "    \n",
    "fun1('ashwini@gmail.com')"
   ]
  },
  {
   "cell_type": "code",
   "execution_count": 48,
   "id": "503327ce",
   "metadata": {},
   "outputs": [
    {
     "name": "stdout",
     "output_type": "stream",
     "text": [
      "gmail.com\n"
     ]
    }
   ],
   "source": [
    "def get_domain_name(eid):\n",
    "    s=eid.split('@')\n",
    "    domain = s[1]\n",
    "    print(domain)\n",
    "\n",
    "get_domain_name('amruta@gmail.com')"
   ]
  },
  {
   "cell_type": "code",
   "execution_count": 51,
   "id": "e4f07c5c",
   "metadata": {},
   "outputs": [
    {
     "data": {
      "text/plain": [
       "'gmail.com'"
      ]
     },
     "execution_count": 51,
     "metadata": {},
     "output_type": "execute_result"
    }
   ],
   "source": [
    "'abc@gmail.com'.split('@')[-1]"
   ]
  },
  {
   "cell_type": "code",
   "execution_count": 52,
   "id": "14705e18",
   "metadata": {},
   "outputs": [],
   "source": [
    "def return_domain(email):\n",
    "    return email.split('@')[-1]"
   ]
  },
  {
   "cell_type": "code",
   "execution_count": 53,
   "id": "02c449ea",
   "metadata": {},
   "outputs": [
    {
     "data": {
      "text/plain": [
       "'hotmail.com'"
      ]
     },
     "execution_count": 53,
     "metadata": {},
     "output_type": "execute_result"
    }
   ],
   "source": [
    "return_domain('sachin@hotmail.com')"
   ]
  },
  {
   "cell_type": "code",
   "execution_count": 54,
   "id": "915db066",
   "metadata": {},
   "outputs": [
    {
     "ename": "AttributeError",
     "evalue": "'list' object has no attribute 'split'",
     "output_type": "error",
     "traceback": [
      "\u001b[1;31m---------------------------------------------------------------------------\u001b[0m",
      "\u001b[1;31mAttributeError\u001b[0m                            Traceback (most recent call last)",
      "\u001b[1;32m~\\AppData\\Local\\Temp/ipykernel_8408/66295114.py\u001b[0m in \u001b[0;36m<module>\u001b[1;34m\u001b[0m\n\u001b[1;32m----> 1\u001b[1;33m \u001b[0mfun1\u001b[0m\u001b[1;33m=\u001b[0m \u001b[1;33m(\u001b[0m\u001b[0mdata\u001b[0m\u001b[1;33m.\u001b[0m\u001b[0msplit\u001b[0m\u001b[1;33m(\u001b[0m\u001b[1;34m'@'\u001b[0m\u001b[1;33m)\u001b[0m\u001b[1;33m[\u001b[0m\u001b[1;36m1\u001b[0m\u001b[1;33m]\u001b[0m\u001b[1;33m)\u001b[0m\u001b[1;33m\u001b[0m\u001b[1;33m\u001b[0m\u001b[0m\n\u001b[0m",
      "\u001b[1;31mAttributeError\u001b[0m: 'list' object has no attribute 'split'"
     ]
    }
   ],
   "source": [
    "fun1= (data.split('@')[1])"
   ]
  },
  {
   "cell_type": "code",
   "execution_count": 56,
   "id": "c163f296",
   "metadata": {},
   "outputs": [],
   "source": [
    "def your_fun(data):\n",
    "    return data.split('@')[1]"
   ]
  },
  {
   "cell_type": "code",
   "execution_count": 57,
   "id": "32a371c8",
   "metadata": {},
   "outputs": [
    {
     "data": {
      "text/plain": [
       "'gmail.com'"
      ]
     },
     "execution_count": 57,
     "metadata": {},
     "output_type": "execute_result"
    }
   ],
   "source": [
    "your_fun('mukti@gmail.com')"
   ]
  },
  {
   "cell_type": "code",
   "execution_count": 58,
   "id": "5a80a7c1",
   "metadata": {},
   "outputs": [
    {
     "data": {
      "text/plain": [
       "True"
      ]
     },
     "execution_count": 58,
     "metadata": {},
     "output_type": "execute_result"
    }
   ],
   "source": [
    "def check_word(string):\n",
    "    if 'Dog' in string:\n",
    "        return True\n",
    "    else :\n",
    "        return False"
   ]
  },
  {
   "cell_type": "code",
   "execution_count": 59,
   "id": "41ac8542",
   "metadata": {},
   "outputs": [
    {
     "data": {
      "text/plain": [
       "True"
      ]
     },
     "execution_count": 59,
     "metadata": {},
     "output_type": "execute_result"
    }
   ],
   "source": [
    "check_word('This Dog is black')"
   ]
  },
  {
   "cell_type": "code",
   "execution_count": 60,
   "id": "b29fd3be",
   "metadata": {},
   "outputs": [
    {
     "data": {
      "text/plain": [
       "False"
      ]
     },
     "execution_count": 60,
     "metadata": {},
     "output_type": "execute_result"
    }
   ],
   "source": [
    "check_word('This dog is black')"
   ]
  },
  {
   "cell_type": "code",
   "execution_count": 70,
   "id": "9371fe17",
   "metadata": {},
   "outputs": [],
   "source": [
    "def check_word(string):\n",
    "    if 'DOG' in string.upper().split():\n",
    "        return True\n",
    "    else :\n",
    "        return False"
   ]
  },
  {
   "cell_type": "code",
   "execution_count": 74,
   "id": "8055b6a3",
   "metadata": {},
   "outputs": [
    {
     "data": {
      "text/plain": [
       "True"
      ]
     },
     "execution_count": 74,
     "metadata": {},
     "output_type": "execute_result"
    }
   ],
   "source": [
    "check_word('this is sdfdfsdfdogsfDogdffsdf dOG')"
   ]
  },
  {
   "cell_type": "code",
   "execution_count": 75,
   "id": "57d2675e",
   "metadata": {},
   "outputs": [
    {
     "name": "stdout",
     "output_type": "stream",
     "text": [
      "1\n"
     ]
    }
   ],
   "source": [
    "def fun1(a):\n",
    "\tb= a.upper()\n",
    "\treturn b.count('DOG')"
   ]
  },
  {
   "cell_type": "code",
   "execution_count": 78,
   "id": "d9e68f16",
   "metadata": {},
   "outputs": [
    {
     "name": "stdout",
     "output_type": "stream",
     "text": [
      "4\n"
     ]
    }
   ],
   "source": [
    "print(fun1('a dog dog Dog DOG'))"
   ]
  },
  {
   "cell_type": "code",
   "execution_count": 79,
   "id": "2b56310f",
   "metadata": {},
   "outputs": [],
   "source": [
    "def count_dog(s):\n",
    "    count=0\n",
    "    for w in s.split():\n",
    "        if w=='dog':\n",
    "            count=count+1\n",
    "    return count"
   ]
  },
  {
   "cell_type": "code",
   "execution_count": 80,
   "id": "7f90eefc",
   "metadata": {},
   "outputs": [
    {
     "data": {
      "text/plain": [
       "1"
      ]
     },
     "execution_count": 80,
     "metadata": {},
     "output_type": "execute_result"
    }
   ],
   "source": [
    "count_dog('this Dog that DOg dog DOG')"
   ]
  },
  {
   "cell_type": "code",
   "execution_count": 81,
   "id": "00568035",
   "metadata": {},
   "outputs": [],
   "source": [
    "def countDog(s1 = \"this dog runs faster than this dog\"):\n",
    "    count = 0\n",
    "    for v in s1.split():\n",
    "        if 'dog' == v:\n",
    "            count = count+1\n",
    "    print(\"count of dog word\", count)"
   ]
  },
  {
   "cell_type": "code",
   "execution_count": 82,
   "id": "92b8773b",
   "metadata": {},
   "outputs": [
    {
     "name": "stdout",
     "output_type": "stream",
     "text": [
      "count of dog word 1\n"
     ]
    }
   ],
   "source": [
    "countDog('this Dog that DOg dog DOG')"
   ]
  },
  {
   "cell_type": "code",
   "execution_count": 83,
   "id": "d32657a0",
   "metadata": {},
   "outputs": [],
   "source": [
    "def count_dog(s):\n",
    "    count=0\n",
    "    for w in s.lower().split():\n",
    "        if w=='dog':\n",
    "            count=count+1\n",
    "    return count"
   ]
  },
  {
   "cell_type": "code",
   "execution_count": 84,
   "id": "d7f7048e",
   "metadata": {},
   "outputs": [
    {
     "data": {
      "text/plain": [
       "4"
      ]
     },
     "execution_count": 84,
     "metadata": {},
     "output_type": "execute_result"
    }
   ],
   "source": [
    "count_dog('this Dog that DOg dog DOG')"
   ]
  },
  {
   "cell_type": "code",
   "execution_count": 85,
   "id": "c0b6d8cb",
   "metadata": {},
   "outputs": [],
   "source": [
    "seq = ['soup','dog','salad','cat','great']"
   ]
  },
  {
   "cell_type": "code",
   "execution_count": 86,
   "id": "012dd158",
   "metadata": {},
   "outputs": [
    {
     "data": {
      "text/plain": [
       "['soup', 'dog', 'salad', 'cat', 'great']"
      ]
     },
     "execution_count": 86,
     "metadata": {},
     "output_type": "execute_result"
    }
   ],
   "source": [
    "seq"
   ]
  },
  {
   "cell_type": "code",
   "execution_count": 87,
   "id": "c5fa09bf",
   "metadata": {},
   "outputs": [
    {
     "data": {
      "text/plain": [
       "[False, True, False, True, True]"
      ]
     },
     "execution_count": 87,
     "metadata": {},
     "output_type": "execute_result"
    }
   ],
   "source": [
    "list(map(lambda y:y[0]!='s',seq))"
   ]
  },
  {
   "cell_type": "code",
   "execution_count": 88,
   "id": "c724a624",
   "metadata": {},
   "outputs": [
    {
     "data": {
      "text/plain": [
       "['dog', 'cat', 'great']"
      ]
     },
     "execution_count": 88,
     "metadata": {},
     "output_type": "execute_result"
    }
   ],
   "source": [
    "list(filter(lambda v:v[0] != 's', seq))"
   ]
  },
  {
   "cell_type": "code",
   "execution_count": 89,
   "id": "2eec755d",
   "metadata": {},
   "outputs": [
    {
     "data": {
      "text/plain": [
       "['dog', 'cat', 'great']"
      ]
     },
     "execution_count": 89,
     "metadata": {},
     "output_type": "execute_result"
    }
   ],
   "source": [
    "list(filter(lambda w:w[0].lower()!='s', seq))"
   ]
  },
  {
   "cell_type": "code",
   "execution_count": 90,
   "id": "6fa2bec0",
   "metadata": {},
   "outputs": [
    {
     "data": {
      "text/plain": [
       "['dog', 'cat', 'great']"
      ]
     },
     "execution_count": 90,
     "metadata": {},
     "output_type": "execute_result"
    }
   ],
   "source": [
    "list(filter(lambda v:v[0]!='s',seq))"
   ]
  },
  {
   "cell_type": "code",
   "execution_count": 93,
   "id": "6bee5e28",
   "metadata": {},
   "outputs": [],
   "source": [
    "def caught_speeding(speed, is_birthday):\n",
    "    if is_birthday == True:\n",
    "        speed = speed - 5\n",
    "    if speed <= 60:\n",
    "        x='NT'\n",
    "    elif 61 <= speed <= 80:\n",
    "        x='ST'\n",
    "    elif speed >= 81:\n",
    "        x='BT'\n",
    "    return x"
   ]
  },
  {
   "cell_type": "code",
   "execution_count": 94,
   "id": "9b62e170",
   "metadata": {},
   "outputs": [
    {
     "data": {
      "text/plain": [
       "'ST'"
      ]
     },
     "execution_count": 94,
     "metadata": {},
     "output_type": "execute_result"
    }
   ],
   "source": [
    "caught_speeding(84,True)"
   ]
  },
  {
   "cell_type": "code",
   "execution_count": 100,
   "id": "cdf6ef71",
   "metadata": {},
   "outputs": [],
   "source": [
    "def catch_speed(speed,birthday):\n",
    "    if birthday:\n",
    "        speed2=speed-5\n",
    "    else:\n",
    "        speed2=speed\n",
    "    if speed2>80:\n",
    "        print(\"BIG TICKET!!!\")\n",
    "    elif speed2>60:\n",
    "        print(\"SMALL TICKET!!\")\n",
    "    else:\n",
    "        print(\"NO TICKET!!\")"
   ]
  },
  {
   "cell_type": "code",
   "execution_count": 101,
   "id": "ea8a4484",
   "metadata": {},
   "outputs": [
    {
     "name": "stdout",
     "output_type": "stream",
     "text": [
      "SMALL TICKET!!\n"
     ]
    }
   ],
   "source": [
    "catch_speed(84,True)"
   ]
  },
  {
   "cell_type": "code",
   "execution_count": 102,
   "id": "b3e2768f",
   "metadata": {},
   "outputs": [
    {
     "name": "stdout",
     "output_type": "stream",
     "text": [
      "BIG TICKET!!!\n"
     ]
    }
   ],
   "source": [
    "catch_speed(84,False)"
   ]
  },
  {
   "cell_type": "code",
   "execution_count": 104,
   "id": "ff5de422",
   "metadata": {},
   "outputs": [
    {
     "name": "stdout",
     "output_type": "stream",
     "text": [
      "Enter the input:78\n"
     ]
    }
   ],
   "source": [
    "s=input(\"Enter the input:\")"
   ]
  },
  {
   "cell_type": "code",
   "execution_count": 105,
   "id": "fd057374",
   "metadata": {},
   "outputs": [
    {
     "data": {
      "text/plain": [
       "'78'"
      ]
     },
     "execution_count": 105,
     "metadata": {},
     "output_type": "execute_result"
    }
   ],
   "source": [
    "s"
   ]
  },
  {
   "cell_type": "code",
   "execution_count": 106,
   "id": "bdb674bf",
   "metadata": {},
   "outputs": [
    {
     "data": {
      "text/plain": [
       "str"
      ]
     },
     "execution_count": 106,
     "metadata": {},
     "output_type": "execute_result"
    }
   ],
   "source": [
    "type(s)"
   ]
  },
  {
   "cell_type": "code",
   "execution_count": 107,
   "id": "29610889",
   "metadata": {},
   "outputs": [
    {
     "name": "stdout",
     "output_type": "stream",
     "text": [
      "Input the string:abcd56\n",
      "['abcd56']\n",
      "\n"
     ]
    }
   ],
   "source": [
    "string=input('Input the string:')\n",
    "string1=string.split()\n",
    "print(string1)\n",
    "for i in string1:\n",
    "    z=''\n",
    "    if i[0] == '-':\n",
    "        for j in i:\n",
    "            z=z+j\n",
    "    print(z)"
   ]
  },
  {
   "cell_type": "code",
   "execution_count": 108,
   "id": "c7622b28",
   "metadata": {},
   "outputs": [
    {
     "data": {
      "text/plain": [
       "'-'"
      ]
     },
     "execution_count": 108,
     "metadata": {},
     "output_type": "execute_result"
    }
   ],
   "source": [
    "''+'-'"
   ]
  },
  {
   "cell_type": "code",
   "execution_count": 113,
   "id": "b3364d32",
   "metadata": {},
   "outputs": [
    {
     "name": "stdout",
     "output_type": "stream",
     "text": [
      "Enter the Input :df-56bg\n",
      "56\n"
     ]
    }
   ],
   "source": [
    "s=input(\"Enter the Input :\")\n",
    "num=''\n",
    "arr=[0,1,2,3,4,5,6,7,8,9]\n",
    "if s[0]=='-':\n",
    "    num=num+s[0]\n",
    "for c in s:\n",
    "    if c in str(arr):\n",
    "        num=num+c\n",
    "print(num)"
   ]
  },
  {
   "cell_type": "code",
   "execution_count": 122,
   "id": "8d5171f5",
   "metadata": {},
   "outputs": [
    {
     "name": "stdout",
     "output_type": "stream",
     "text": [
      "Input the string:-567tghghgh\n",
      "-567\n"
     ]
    }
   ],
   "source": [
    "i=input('Input the string:')\n",
    "z=''\n",
    "if i[0] == '-':\n",
    "    z='-'\n",
    "for j in i:\n",
    "    if j in '0123456789':\n",
    "        z=z+j\n",
    "print(z)"
   ]
  },
  {
   "cell_type": "code",
   "execution_count": 26,
   "id": "e6ffbc91",
   "metadata": {},
   "outputs": [
    {
     "name": "stdout",
     "output_type": "stream",
     "text": [
      "Enter the Number:88\n",
      "Number is: 176\n",
      "Reverse is: 671\n",
      "Number is: 847\n",
      "Reverse is: 748\n",
      "Number is: 1595\n",
      "Reverse is: 5951\n",
      "Number is: 7546\n",
      "Reverse is: 6457\n",
      "Number is: 14003\n",
      "Reverse is: 30041\n",
      "Number is: 44044\n",
      "Reverse is: 44044\n",
      "Palindrome is: 44044\n"
     ]
    }
   ],
   "source": [
    "n1=input(\"Enter the Number:\")\n",
    "n2=int(n1[::-1])\n",
    "n3=str(int(n1)+n2)\n",
    "print(\"Number is:\",n3)\n",
    "print(\"Reverse is:\",n3[::-1])\n",
    "while n3!=n3[::-1]:\n",
    "    n3=str(int(n3)+int(n3[::-1]))\n",
    "    print(\"Number is:\",n3)\n",
    "    print(\"Reverse is:\",n3[::-1])\n",
    "print(\"Palindrome is:\",n3)"
   ]
  },
  {
   "cell_type": "code",
   "execution_count": 14,
   "id": "dc5dbe5c",
   "metadata": {},
   "outputs": [
    {
     "data": {
      "text/plain": [
       "'45'"
      ]
     },
     "execution_count": 14,
     "metadata": {},
     "output_type": "execute_result"
    }
   ],
   "source": [
    "n1"
   ]
  },
  {
   "cell_type": "code",
   "execution_count": 15,
   "id": "08490279",
   "metadata": {},
   "outputs": [
    {
     "data": {
      "text/plain": [
       "54"
      ]
     },
     "execution_count": 15,
     "metadata": {},
     "output_type": "execute_result"
    }
   ],
   "source": [
    "n2"
   ]
  },
  {
   "cell_type": "code",
   "execution_count": 16,
   "id": "10fec068",
   "metadata": {},
   "outputs": [
    {
     "data": {
      "text/plain": [
       "99"
      ]
     },
     "execution_count": 16,
     "metadata": {},
     "output_type": "execute_result"
    }
   ],
   "source": [
    "n3"
   ]
  },
  {
   "cell_type": "code",
   "execution_count": 27,
   "id": "5e4e48b7",
   "metadata": {},
   "outputs": [
    {
     "name": "stdout",
     "output_type": "stream",
     "text": [
      "num:88\n",
      "number is : 847\n",
      "reverse is : 748\n",
      "number is : 1595\n",
      "reverse is : 5951\n",
      "number is : 7546\n",
      "reverse is : 6457\n",
      "number is : 14003\n",
      "reverse is : 30041\n",
      "number is : 44044\n",
      "reverse is : 44044\n",
      "palindrome :  44044\n"
     ]
    }
   ],
   "source": [
    "a=input(\"num:\")\n",
    "b=a[::-1]\n",
    "c=str(int(a)+int(b))\n",
    "while c != c[::-1]:\n",
    "    c=str(int(c)+int(c[::-1]))\n",
    "    print(\"number is :\", c)\n",
    "    print(\"reverse is :\", c[::-1])\n",
    "print(\"palindrome : \", c)"
   ]
  },
  {
   "cell_type": "code",
   "execution_count": 28,
   "id": "cf2ca13e",
   "metadata": {},
   "outputs": [
    {
     "name": "stdout",
     "output_type": "stream",
     "text": [
      "get num:5\n",
      "['5']\n"
     ]
    },
    {
     "ename": "IndexError",
     "evalue": "list index out of range",
     "output_type": "error",
     "traceback": [
      "\u001b[1;31m---------------------------------------------------------------------------\u001b[0m",
      "\u001b[1;31mIndexError\u001b[0m                                Traceback (most recent call last)",
      "\u001b[1;32m~\\AppData\\Local\\Temp/ipykernel_14920/1191209515.py\u001b[0m in \u001b[0;36m<module>\u001b[1;34m\u001b[0m\n\u001b[0;32m     16\u001b[0m \u001b[1;33m\u001b[0m\u001b[0m\n\u001b[0;32m     17\u001b[0m \u001b[0mnum1\u001b[0m\u001b[1;33m=\u001b[0m\u001b[0minput\u001b[0m\u001b[1;33m(\u001b[0m\u001b[1;34m\"get num:\"\u001b[0m\u001b[1;33m)\u001b[0m\u001b[1;33m\u001b[0m\u001b[1;33m\u001b[0m\u001b[0m\n\u001b[1;32m---> 18\u001b[1;33m \u001b[0mfind_five_digit\u001b[0m\u001b[1;33m(\u001b[0m\u001b[0mnum1\u001b[0m\u001b[1;33m)\u001b[0m\u001b[1;33m\u001b[0m\u001b[1;33m\u001b[0m\u001b[0m\n\u001b[0m",
      "\u001b[1;32m~\\AppData\\Local\\Temp/ipykernel_14920/1191209515.py\u001b[0m in \u001b[0;36mfind_five_digit\u001b[1;34m(num1)\u001b[0m\n\u001b[0;32m      2\u001b[0m     \u001b[0mnum_list\u001b[0m \u001b[1;33m=\u001b[0m \u001b[0mnum1\u001b[0m\u001b[1;33m.\u001b[0m\u001b[0msplit\u001b[0m\u001b[1;33m(\u001b[0m\u001b[1;33m)\u001b[0m\u001b[1;33m\u001b[0m\u001b[1;33m\u001b[0m\u001b[0m\n\u001b[0;32m      3\u001b[0m     \u001b[0mprint\u001b[0m\u001b[1;33m(\u001b[0m\u001b[0mnum_list\u001b[0m\u001b[1;33m)\u001b[0m\u001b[1;33m\u001b[0m\u001b[1;33m\u001b[0m\u001b[0m\n\u001b[1;32m----> 4\u001b[1;33m     \u001b[1;32mif\u001b[0m \u001b[0mint\u001b[0m\u001b[1;33m(\u001b[0m\u001b[0mnum_list\u001b[0m\u001b[1;33m[\u001b[0m\u001b[1;36m0\u001b[0m\u001b[1;33m]\u001b[0m\u001b[1;33m)\u001b[0m \u001b[1;33m==\u001b[0m \u001b[0mint\u001b[0m\u001b[1;33m(\u001b[0m\u001b[0mnum_list\u001b[0m\u001b[1;33m[\u001b[0m\u001b[1;36m1\u001b[0m\u001b[1;33m]\u001b[0m\u001b[1;33m)\u001b[0m \u001b[1;33m+\u001b[0m \u001b[1;36m2\u001b[0m\u001b[1;33m:\u001b[0m\u001b[1;33m\u001b[0m\u001b[1;33m\u001b[0m\u001b[0m\n\u001b[0m\u001b[0;32m      5\u001b[0m         \u001b[0ms1\u001b[0m\u001b[1;33m=\u001b[0m\u001b[1;32mTrue\u001b[0m\u001b[1;33m\u001b[0m\u001b[1;33m\u001b[0m\u001b[0m\n\u001b[0;32m      6\u001b[0m     \u001b[1;32mif\u001b[0m \u001b[0mint\u001b[0m\u001b[1;33m(\u001b[0m\u001b[0mnum_list\u001b[0m\u001b[1;33m[\u001b[0m\u001b[1;36m1\u001b[0m\u001b[1;33m]\u001b[0m\u001b[1;33m)\u001b[0m \u001b[1;33m==\u001b[0m \u001b[0mint\u001b[0m\u001b[1;33m(\u001b[0m\u001b[0mnum_list\u001b[0m\u001b[1;33m[\u001b[0m\u001b[1;36m2\u001b[0m\u001b[1;33m]\u001b[0m\u001b[1;33m)\u001b[0m \u001b[1;33m+\u001b[0m \u001b[1;36m2\u001b[0m\u001b[1;33m:\u001b[0m\u001b[1;33m\u001b[0m\u001b[1;33m\u001b[0m\u001b[0m\n",
      "\u001b[1;31mIndexError\u001b[0m: list index out of range"
     ]
    }
   ],
   "source": [
    "def find_five_digit(num1):\n",
    "    num_list = num1.split()\n",
    "    print(num_list)\n",
    "    if int(num_list[0]) == int(num_list[1]) + 2:\n",
    "        s1=True\n",
    "    if int(num_list[1]) == int(num_list[2]) + 2:\n",
    "        s2=True\n",
    "    if int(num_list[3]) == int(num_list[2]) - 2:\n",
    "        s3=True\n",
    "    if int(num_list[4]) == int(num_list[3]) + 2:\n",
    "        s4=True\n",
    "    if int(num_list[0]) == int(num_list[2]) + int(num_list[3]) + int(num_list[4]):\n",
    "        s5=True\n",
    "    if s1==True and s2==True and s3==True and s4==True and s5==True:\n",
    "        print(num1)\n",
    "    \n",
    "num1=input(\"get num:\")\n",
    "find_five_digit(num1)"
   ]
  },
  {
   "cell_type": "code",
   "execution_count": 31,
   "id": "227daa49",
   "metadata": {},
   "outputs": [],
   "source": [
    "def find_number():\n",
    "    for a in range(0,10):\n",
    "        b=a-2\n",
    "        c=b-2\n",
    "        d=c-2\n",
    "        if c+d+c==a and a+b+c+d+c==19:\n",
    "            print(str(a)+str(b)+str(c)+str(d)+str(c))"
   ]
  },
  {
   "cell_type": "code",
   "execution_count": 32,
   "id": "fbfc8494",
   "metadata": {},
   "outputs": [
    {
     "name": "stdout",
     "output_type": "stream",
     "text": [
      "75313\n"
     ]
    }
   ],
   "source": [
    "find_number()"
   ]
  },
  {
   "cell_type": "code",
   "execution_count": 33,
   "id": "ce6df824",
   "metadata": {},
   "outputs": [],
   "source": [
    "def find_number2():\n",
    "    for i1 in range(0,10):\n",
    "        for i2 in range(0,10):\n",
    "            for i3 in range(0,10):\n",
    "                for i4 in range(0,10):\n",
    "                    for i5 in range(0,10):\n",
    "                        if i1+i2+i3+i4+i5==19:\n",
    "                            if ((i1-i2==2) and (i2-i3==2) and (i3-i4==2) and (i5-i4==2)):\n",
    "                                if (i3+i4+i5)==i1:\n",
    "                                    print(\"Number is\",str(i1)+str(i2)+str(i3)+str(i4)+str(i5))"
   ]
  },
  {
   "cell_type": "code",
   "execution_count": 34,
   "id": "f99822bf",
   "metadata": {},
   "outputs": [
    {
     "name": "stdout",
     "output_type": "stream",
     "text": [
      "Number is 75313\n"
     ]
    }
   ],
   "source": [
    "find_number2()"
   ]
  },
  {
   "cell_type": "code",
   "execution_count": 35,
   "id": "9e8a550a",
   "metadata": {},
   "outputs": [
    {
     "name": "stdout",
     "output_type": "stream",
     "text": [
      "\n",
      "*\n",
      "**\n",
      "***\n",
      "****\n",
      "*****\n"
     ]
    }
   ],
   "source": [
    "for i in range(0,6):\n",
    "    print('*'*i)"
   ]
  },
  {
   "cell_type": "code",
   "execution_count": 36,
   "id": "ffb18961",
   "metadata": {},
   "outputs": [
    {
     "name": "stdout",
     "output_type": "stream",
     "text": [
      "\n",
      "*\n",
      "**\n",
      "***\n",
      "****\n"
     ]
    }
   ],
   "source": [
    "for i in range(5):\n",
    "  print('*'*i)"
   ]
  },
  {
   "cell_type": "code",
   "execution_count": 37,
   "id": "fa5adb64",
   "metadata": {},
   "outputs": [
    {
     "name": "stdout",
     "output_type": "stream",
     "text": [
      "enter number: 9\n",
      "\n",
      "*\n",
      "**\n",
      "***\n",
      "****\n",
      "*****\n",
      "******\n",
      "*******\n",
      "********\n",
      "*********\n"
     ]
    }
   ],
   "source": [
    "n = int(input('enter number: '))\n",
    "for i in range(n+1):\n",
    "  print('*'*i)"
   ]
  },
  {
   "cell_type": "code",
   "execution_count": 38,
   "id": "265ed020",
   "metadata": {},
   "outputs": [
    {
     "name": "stdout",
     "output_type": "stream",
     "text": [
      "enter number of rows: 10\n",
      "*\n",
      "**\n",
      "***\n",
      "****\n",
      "*****\n",
      "******\n",
      "*******\n",
      "********\n",
      "*********\n",
      "**********\n"
     ]
    }
   ],
   "source": [
    "n = int(input(\"enter number of rows: \"))\n",
    "for i in range(1,n+1):\n",
    "    print(\"*\"*i)"
   ]
  },
  {
   "cell_type": "code",
   "execution_count": 39,
   "id": "cfed7ec0",
   "metadata": {},
   "outputs": [
    {
     "name": "stdout",
     "output_type": "stream",
     "text": [
      "input number:20\n",
      "\n",
      "*\n",
      "**\n",
      "***\n",
      "****\n",
      "*****\n",
      "******\n",
      "*******\n",
      "********\n",
      "*********\n",
      "**********\n",
      "***********\n",
      "************\n",
      "*************\n",
      "**************\n",
      "***************\n",
      "****************\n",
      "*****************\n",
      "******************\n",
      "*******************\n",
      "********************\n"
     ]
    }
   ],
   "source": [
    "number=int(input(\"input number:\"))\n",
    "for i in range(0,number+1):\n",
    "    print('*'*i)"
   ]
  },
  {
   "cell_type": "code",
   "execution_count": 46,
   "id": "9d28b13d",
   "metadata": {},
   "outputs": [
    {
     "name": "stdout",
     "output_type": "stream",
     "text": [
      "Enter the rows:30\n",
      "1 \n",
      "1 2 \n",
      "1 2 3 \n",
      "1 2 3 4 \n",
      "1 2 3 4 5 \n",
      "1 2 3 4 5 6 \n",
      "1 2 3 4 5 6 7 \n",
      "1 2 3 4 5 6 7 8 \n",
      "1 2 3 4 5 6 7 8 9 \n",
      "1 2 3 4 5 6 7 8 9 10 \n",
      "1 2 3 4 5 6 7 8 9 10 11 \n",
      "1 2 3 4 5 6 7 8 9 10 11 12 \n",
      "1 2 3 4 5 6 7 8 9 10 11 12 13 \n",
      "1 2 3 4 5 6 7 8 9 10 11 12 13 14 \n",
      "1 2 3 4 5 6 7 8 9 10 11 12 13 14 15 \n",
      "1 2 3 4 5 6 7 8 9 10 11 12 13 14 15 16 \n",
      "1 2 3 4 5 6 7 8 9 10 11 12 13 14 15 16 17 \n",
      "1 2 3 4 5 6 7 8 9 10 11 12 13 14 15 16 17 18 \n",
      "1 2 3 4 5 6 7 8 9 10 11 12 13 14 15 16 17 18 19 \n",
      "1 2 3 4 5 6 7 8 9 10 11 12 13 14 15 16 17 18 19 20 \n",
      "1 2 3 4 5 6 7 8 9 10 11 12 13 14 15 16 17 18 19 20 21 \n",
      "1 2 3 4 5 6 7 8 9 10 11 12 13 14 15 16 17 18 19 20 21 22 \n",
      "1 2 3 4 5 6 7 8 9 10 11 12 13 14 15 16 17 18 19 20 21 22 23 \n",
      "1 2 3 4 5 6 7 8 9 10 11 12 13 14 15 16 17 18 19 20 21 22 23 24 \n",
      "1 2 3 4 5 6 7 8 9 10 11 12 13 14 15 16 17 18 19 20 21 22 23 24 25 \n",
      "1 2 3 4 5 6 7 8 9 10 11 12 13 14 15 16 17 18 19 20 21 22 23 24 25 26 \n",
      "1 2 3 4 5 6 7 8 9 10 11 12 13 14 15 16 17 18 19 20 21 22 23 24 25 26 27 \n",
      "1 2 3 4 5 6 7 8 9 10 11 12 13 14 15 16 17 18 19 20 21 22 23 24 25 26 27 28 \n",
      "1 2 3 4 5 6 7 8 9 10 11 12 13 14 15 16 17 18 19 20 21 22 23 24 25 26 27 28 29 \n",
      "1 2 3 4 5 6 7 8 9 10 11 12 13 14 15 16 17 18 19 20 21 22 23 24 25 26 27 28 29 30 \n"
     ]
    }
   ],
   "source": [
    "rows=int(input(\"Enter the rows:\"))\n",
    "for v in range(rows):\n",
    "    for u in range(v+1):\n",
    "        print(u+1,end=\" \")\n",
    "    print(\"\")"
   ]
  },
  {
   "cell_type": "code",
   "execution_count": 55,
   "id": "50e69b46",
   "metadata": {},
   "outputs": [
    {
     "data": {
      "text/plain": [
       "'z'"
      ]
     },
     "execution_count": 55,
     "metadata": {},
     "output_type": "execute_result"
    }
   ],
   "source": [
    "chr(122)"
   ]
  },
  {
   "cell_type": "code",
   "execution_count": 60,
   "id": "2f6d9d40",
   "metadata": {},
   "outputs": [
    {
     "name": "stdout",
     "output_type": "stream",
     "text": [
      "Enter the number of rows:26\n",
      "A \n",
      "B B \n",
      "C C C \n",
      "D D D D \n",
      "E E E E E \n",
      "F F F F F F \n",
      "G G G G G G G \n",
      "H H H H H H H H \n",
      "I I I I I I I I I \n",
      "J J J J J J J J J J \n",
      "K K K K K K K K K K K \n",
      "L L L L L L L L L L L L \n",
      "M M M M M M M M M M M M M \n",
      "N N N N N N N N N N N N N N \n",
      "O O O O O O O O O O O O O O O \n",
      "P P P P P P P P P P P P P P P P \n",
      "Q Q Q Q Q Q Q Q Q Q Q Q Q Q Q Q Q \n",
      "R R R R R R R R R R R R R R R R R R \n",
      "S S S S S S S S S S S S S S S S S S S \n",
      "T T T T T T T T T T T T T T T T T T T T \n",
      "U U U U U U U U U U U U U U U U U U U U U \n",
      "V V V V V V V V V V V V V V V V V V V V V V \n",
      "W W W W W W W W W W W W W W W W W W W W W W W \n",
      "X X X X X X X X X X X X X X X X X X X X X X X X \n",
      "Y Y Y Y Y Y Y Y Y Y Y Y Y Y Y Y Y Y Y Y Y Y Y Y Y \n",
      "Z Z Z Z Z Z Z Z Z Z Z Z Z Z Z Z Z Z Z Z Z Z Z Z Z Z \n"
     ]
    }
   ],
   "source": [
    "rows=int(input(\"Enter the number of rows:\"))\n",
    "\n",
    "ascii_value=65\n",
    "for i in range(rows):\n",
    "    for j in range(i+1):\n",
    "        alphabet=chr(ascii_value)\n",
    "        print(alphabet,end=\" \")\n",
    "    ascii_value=ascii_value+1\n",
    "    print(\"\")"
   ]
  },
  {
   "cell_type": "code",
   "execution_count": 61,
   "id": "36099463",
   "metadata": {},
   "outputs": [
    {
     "name": "stdout",
     "output_type": "stream",
     "text": [
      "A\n",
      "AB\n",
      "ABC\n",
      "ABCD\n",
      "ABCDE\n",
      "ABCDEF\n",
      "ABCDEFG\n",
      "ABCDEFGH\n",
      "ABCDEFGHI\n",
      "ABCDEFGHIJ\n",
      "ABCDEFGHIJK\n",
      "ABCDEFGHIJKL\n",
      "ABCDEFGHIJKLM\n",
      "ABCDEFGHIJKLMN\n",
      "ABCDEFGHIJKLMNO\n",
      "ABCDEFGHIJKLMNOP\n",
      "ABCDEFGHIJKLMNOPQ\n",
      "ABCDEFGHIJKLMNOPQR\n",
      "ABCDEFGHIJKLMNOPQRS\n",
      "ABCDEFGHIJKLMNOPQRST\n",
      "ABCDEFGHIJKLMNOPQRSTU\n",
      "ABCDEFGHIJKLMNOPQRSTUV\n",
      "ABCDEFGHIJKLMNOPQRSTUVW\n",
      "ABCDEFGHIJKLMNOPQRSTUVWX\n",
      "ABCDEFGHIJKLMNOPQRSTUVWXY\n",
      "ABCDEFGHIJKLMNOPQRSTUVWXYZ\n"
     ]
    }
   ],
   "source": [
    "n=26\n",
    "for i in range(n):\n",
    "    for j in range(i+1):\n",
    "        print(chr(j + 65), end=\"\")\n",
    "    print()"
   ]
  },
  {
   "cell_type": "code",
   "execution_count": 63,
   "id": "d21e4c94",
   "metadata": {},
   "outputs": [
    {
     "name": "stdout",
     "output_type": "stream",
     "text": [
      "Enter the number of rows:26\n",
      "a \n",
      "b b \n",
      "c c c \n",
      "d d d d \n",
      "e e e e e \n",
      "f f f f f f \n",
      "g g g g g g g \n",
      "h h h h h h h h \n",
      "i i i i i i i i i \n",
      "j j j j j j j j j j \n",
      "k k k k k k k k k k k \n",
      "l l l l l l l l l l l l \n",
      "m m m m m m m m m m m m m \n",
      "n n n n n n n n n n n n n n \n",
      "o o o o o o o o o o o o o o o \n",
      "p p p p p p p p p p p p p p p p \n",
      "q q q q q q q q q q q q q q q q q \n",
      "r r r r r r r r r r r r r r r r r r \n",
      "s s s s s s s s s s s s s s s s s s s \n",
      "t t t t t t t t t t t t t t t t t t t t \n",
      "u u u u u u u u u u u u u u u u u u u u u \n",
      "v v v v v v v v v v v v v v v v v v v v v v \n",
      "w w w w w w w w w w w w w w w w w w w w w w w \n",
      "x x x x x x x x x x x x x x x x x x x x x x x x \n",
      "y y y y y y y y y y y y y y y y y y y y y y y y y \n",
      "z z z z z z z z z z z z z z z z z z z z z z z z z z \n"
     ]
    }
   ],
   "source": [
    "rows=int(input(\"Enter the number of rows:\"))\n",
    "\n",
    "ascii_value=97\n",
    "for i in range(rows):\n",
    "    for j in range(i+1):\n",
    "        alphabet=chr(ascii_value)\n",
    "        print(alphabet,end=\" \")\n",
    "    ascii_value=ascii_value+1\n",
    "    print(\"\")"
   ]
  },
  {
   "cell_type": "code",
   "execution_count": 64,
   "id": "da950954",
   "metadata": {},
   "outputs": [
    {
     "name": "stdout",
     "output_type": "stream",
     "text": [
      "a\n",
      "ab\n",
      "abc\n",
      "abcd\n",
      "abcde\n",
      "abcdef\n",
      "abcdefg\n",
      "abcdefgh\n",
      "abcdefghi\n",
      "abcdefghij\n",
      "abcdefghijk\n",
      "abcdefghijkl\n",
      "abcdefghijklm\n",
      "abcdefghijklmn\n",
      "abcdefghijklmno\n",
      "abcdefghijklmnop\n",
      "abcdefghijklmnopq\n",
      "abcdefghijklmnopqr\n",
      "abcdefghijklmnopqrs\n",
      "abcdefghijklmnopqrst\n",
      "abcdefghijklmnopqrstu\n",
      "abcdefghijklmnopqrstuv\n",
      "abcdefghijklmnopqrstuvw\n",
      "abcdefghijklmnopqrstuvwx\n",
      "abcdefghijklmnopqrstuvwxy\n",
      "abcdefghijklmnopqrstuvwxyz\n"
     ]
    }
   ],
   "source": [
    "n=26\n",
    "for i in range(n):\n",
    "    for j in range(i+1):\n",
    "        print(chr(j + 97), end=\"\")\n",
    "    print()"
   ]
  },
  {
   "cell_type": "code",
   "execution_count": null,
   "id": "d6d48bfd",
   "metadata": {},
   "outputs": [],
   "source": []
  }
 ],
 "metadata": {
  "kernelspec": {
   "display_name": "Python 3 (ipykernel)",
   "language": "python",
   "name": "python3"
  },
  "language_info": {
   "codemirror_mode": {
    "name": "ipython",
    "version": 3
   },
   "file_extension": ".py",
   "mimetype": "text/x-python",
   "name": "python",
   "nbconvert_exporter": "python",
   "pygments_lexer": "ipython3",
   "version": "3.9.7"
  }
 },
 "nbformat": 4,
 "nbformat_minor": 5
}
